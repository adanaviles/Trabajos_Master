import numpy as np
import math
from numpy.polynomial import chebyshev
from math import pi
from scipy.interpolate import barycentric_interpolate 
import matplotlib.pyplot as plt
from scipy.linalg import norm
import time

#Funciones de las que hay que calcular la interpolación
def runge(x):
    return 1/(1+25*(x**2))

#función seno vectorizada
sin_vec=np.vectorize(math.sin) 

def exponencial(x):
    return math.exp(-20*(x**2))

#función exponencial vectorizada
exp_vec=np.vectorize(exponencial)

#Nodos de Chebyshev
# Tomamos el polinomio T_11(x).  Hemos de poner los coeficientes en orden ascendente, es decir,  
# (1, 0, 3) devolvería 1*T_0(x) + 2*T_1(x) + 3*T_2(x).
coefs_Cheby_11 = [0]*11+[1]
coefs_Cheby_21 = [0]*21+[1]

######## Seno
abscisas_sin = np.linspace(-pi, pi, 100)
nodos_sin_11 = np.linspace(-pi,pi,11) 
nodos_sin_21 = np.linspace(-pi,pi,21) 
T11_sin = chebyshev.Chebyshev(coefs_Cheby_11, [-pi, pi])
nodos_cheby_sin_11 = T11_sin.roots()
T21_sin = chebyshev.Chebyshev(coefs_Cheby_21, [-pi, pi])
nodos_cheby_sin_21 = T21_sin.roots()

######## Runge
abscisas_runge = np.linspace(-1, 1, 100)
nodos_runge_11 = np.linspace(-1,1,11) 
nodos_runge_21 = np.linspace(-1,1,21) 
T11_runge = chebyshev.Chebyshev(coefs_Cheby_11, [-1, 1])
nodos_cheby_runge_11 = T11_runge.roots()
T21_runge = chebyshev.Chebyshev(coefs_Cheby_21, [-1, 1])
nodos_cheby_runge_21 = T21_runge.roots()

######## Gauss
abscisas_gauss = np.linspace(-1, 1, 100)
nodos_gauss_11 = np.linspace(-1,1,11) 
nodos_gauss_21 = np.linspace(-1,1,21) 
T11_gauss = chebyshev.Chebyshev(coefs_Cheby_11, [-1, 1])
nodos_cheby_gauss_11 = T11_gauss.roots()
T21_gauss = chebyshev.Chebyshev(coefs_Cheby_21, [-1, 1])
nodos_cheby_gauss_21 = T21_gauss.roots()
# Para tener el estilo correcto
from matplotlib import style
style.use('default')
# Tarea 1-Interpolación polinómica: Interpolación baricéntrica

TBD
def inter_bar(nodos,funcion,intervalo):
    """ Esta función hace la interpolación baricéntrica, crea su plot y calcula el error y tiempo
    que se tarda en hacer la interpolación. 
    
    Args:
        nodos : Lista de nodos para interpolar 
        funcion :  Funcion que se quiere interpolar.
        intervalo : Lista de puntos donde se evaluará el polinomio baricentrico tras ser calculado
        
    Returns:
        pol: Devuelve el valor de los puntos del intervalo evaluados con el polinomio interpolador.
             Recordemos que barycentric_interpolate no nos devuelve los coeficientes del polinomio, 
             sino que evalua el polinomio en el intervalo que le damos.
        fig: Devuelve el plot.
        tiempo_ejecucion: Tiempo que tarda en ejecutarse la interpolacion
        error: Error de la interpolacion respecto al intervalo original.
        
        
    """
    # Recordemos que barycentric_interpolate no nos devuelve los coeficientes del polinomio, 
    # sino que evalua el polinomio en el intervalo que le damos.
    abscisas_nodo = funcion(nodos)
    inicio =time.perf_counter()
    pol = barycentric_interpolate(nodos, abscisas_nodo, intervalo)
    fin = time.perf_counter()
    # Tiempo total
    tiempo_ejecucion = str(fin-inicio) + ' segundos'
    
    # Error total
    error = norm(pol-funcion(intervalo))
    
    # Creacion del plot
    fig = plt.figure()
    plt.plot(nodos, abscisas_nodo, "ko", figure=fig)
    plt.xlabel('x', figure=fig)
    plt.plot(intervalo, pol,'c',label='polinomio interpolador', figure=fig)
    plt.plot(intervalo,funcion(intervalo),'g:',label='función', figure=fig)
    plt.title("Interpolación baricéntrica", figure=fig)
    plt.legend()
    plt.close(fig) #Usado para no mostrar la figura por pantalla al ejecutar la funcion
    
    return pol, fig, tiempo_ejecucion, error
# Polinomio interpolador que se obtiene con 11 nodos equiespaciados en la función seno
inter_bari_sin_eq_11=inter_bar(nodos_sin_11,sin_vec,abscisas_sin)
# Polinomio interpolador que se obtiene con 21 nodos equiespaciados en la función seno
inter_bari_sin_eq_21=inter_bar(nodos_sin_21,sin_vec,abscisas_sin)
# Polinomio interpolador que se obtiene con 11 nodos de Chebyshev en la función seno
inter_bari_sin_cheby_11=inter_bar(nodos_cheby_sin_11,sin_vec,abscisas_sin)
# Polinomio interpolador que se obtiene con 21 nodos de Chebyshev en la función seno
inter_bari_sin_cheby_21=inter_bar(nodos_cheby_sin_21,sin_vec,abscisas_sin)
Los resultados que se han obtenido al aproximar la función seno mediante la interpolación baricéntrica son muy similares en todos los casos, pues aproximan de forma casi perfecta la función seno en el intervalo [-$\pi,\pi$]. Sin embargo, hay que destacar dado el error obtenido que en el caso de 11 nodos el error cometido es mayor que con 21 nodos. Ademas, el error que se comete con los nodos equiespaciados es mayor que el que se produce con los nodos de Chebyshev. Veamos que ocurre ahora con la función Runge
# Polinomio interpolador que se obtiene con 11 nodos equiespaciados en la función runge
inter_bari_runge_eq_11=inter_bar(nodos_runge_11,runge,abscisas_runge)
# Polinomio interpolador que se obtiene con 21 nodos equiespaciados en la función runge
inter_bari_runge_eq_21=inter_bar(nodos_runge_21,runge,abscisas_runge)
# Polinomio interpolador que se obtiene con 11 nodos de Chebyshev en la función runge
inter_bari_runge_cheby_11=inter_bar(nodos_cheby_runge_11,runge,abscisas_runge)
# Polinomio interpolador que se obtiene con 21 nodos de Chebyshev en la función runge
inter_bari_runge_cheby_21=inter_bar(nodos_cheby_runge_21,runge,abscisas_runge)
A diferencia del caso anterior al aproximar la función Runge en el intervalo [-1,1] se obtienen resultados muy opuestos. De forma que, en el caso de nodos equiespaciados a medida que se toman más nodos se va empeorando la aproximación del polinomio interpolador, lo que queda reflejado en el error absoluto cometido y en la gráfica cuyo recorrido en la función Runge es [0,1] y en el polinomio interpolado con 21 nodos equiespaciados es [-60,4.04). Por el contrario, al tomar nodos de Chebyshev el error que se comete es menor que en el caso de los nodos equiespaciados, destancándose el hecho de que el polinomio interpolador en el caso de 21 nodos aproxima mejor la función Runge.
# Polinomio interpolador que se obtiene con 11 nodos equiespaciados en la función de Gauss
inter_bari_exp_eq_11=inter_bar(nodos_gauss_11,exp_vec,abscisas_gauss)
# Polinomio interpolador que se obtiene con 21 nodos equiespaciados en la función de Gauss
inter_bari_exp_eq_21=inter_bar(nodos_gauss_21,exp_vec,abscisas_gauss)
# Polinomio interpolador que se obtiene con 11 nodos de Chebyshev en la función de Gauss
inter_bari_exp_cheby_11=inter_bar(nodos_cheby_gauss_11,exp_vec,abscisas_gauss)
# Polinomio interpolador que se obtiene con 21 nodos de Chebyshev en la función de Gauss
inter_bari_exp_cheby_21=inter_bar(nodos_cheby_gauss_21,exp_vec,abscisas_gauss)
En último caso, al aproximar la función exponencial en el intervalo [-1,1] Ocurre algo similar al caso anterior, pero lo errores producidos no son tan grandes. De modo que, con los nodos equiespaciados se aproxima peor que con los nodos de Chevyshev, especialmente al aumentar el número de nodos. A diferencia de los nodos de Chevyshev que al aumentar en número el polinomio de interpolación baricéntrica comete un error menor. Además, se debe señalar que el tiempo de ejecución de la interpolación baricéntrica es muy pequeño en todos los casos estudiados.
# Tarea 1: Interpolación polinómica: Interpolación Lagrange

TBD

# Tarea 1: Interpolación polinómica: Interpolación Newton

TBD

# Tarea 2: Splines cúbicos

TBD
