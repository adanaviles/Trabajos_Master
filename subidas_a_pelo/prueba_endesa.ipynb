{
 "cells": [
  {
   "cell_type": "code",
   "execution_count": 14,
   "metadata": {},
   "outputs": [
    {
     "name": "stdout",
     "output_type": "stream",
     "text": [
      "The autoreload extension is already loaded. To reload it, use:\n",
      "  %reload_ext autoreload\n"
     ]
    }
   ],
   "source": [
    "import pandas as pd\n",
    "import numpy as np\n",
    "import scipy.stats as st\n",
    "import matplotlib.pyplot as plt\n",
    "%matplotlib inline \n",
    "import seaborn as sb\n",
    "\n",
    "import xgboost as xgb \n",
    "import nltk\n",
    "import sklearn\n",
    "import sklearn.linear_model as lm\n",
    "import time\n",
    "import os\n",
    "import itertools\n",
    "import tensorflow as tf\n",
    "import keras\n",
    "%load_ext autoreload\n",
    "%autoreload 2"
   ]
  },
  {
   "cell_type": "code",
   "execution_count": 12,
   "metadata": {},
   "outputs": [
    {
     "name": "stdout",
     "output_type": "stream",
     "text": [
      "showing info https://raw.githubusercontent.com/nltk/nltk_data/gh-pages/index.xml\n"
     ]
    },
    {
     "data": {
      "text/plain": [
       "True"
      ]
     },
     "execution_count": 12,
     "metadata": {},
     "output_type": "execute_result"
    }
   ],
   "source": [
    "from sklearn.datasets import load_boston\n",
    "import spacy\n",
    "nlp = spacy.load(\"en_core_web_sm\")\n",
    "nlp\n",
    "nltk.download()"
   ]
  },
  {
   "cell_type": "code",
   "execution_count": null,
   "metadata": {},
   "outputs": [],
   "source": [
    "from nltk.corpus import brown\n",
    "brown.words()"
   ]
  },
  {
   "cell_type": "markdown",
   "metadata": {},
   "source": [
    "#### Ejemplo gradient boosting"
   ]
  },
  {
   "cell_type": "code",
   "execution_count": 8,
   "metadata": {},
   "outputs": [
    {
     "name": "stdout",
     "output_type": "stream",
     "text": [
      "[22:56:02] WARNING: C:/Users/Administrator/workspace/xgboost-win64_release_1.5.1/src/learner.cc:1115: Starting in XGBoost 1.3.0, the default evaluation metric used with the objective 'binary:logistic' was changed from 'error' to 'logloss'. Explicitly set eval_metric if you'd like to restore the old behavior.\n",
      "Accuracy de XGBoost:  0.74375\n",
      "Accuracy de Regresion Lineal:  0.25830271858669873\n"
     ]
    }
   ],
   "source": [
    "# import xgboost as xgb\n",
    "# import pandas as pd\n",
    "# import numpy as np\n",
    "# from sklearn.linear_model import LinearRegression as LR\n",
    "# from sklearn.model_selection import train_test_split\n",
    "\n",
    "data = pd.read_csv('winequality-red.csv')\n",
    "\n",
    "''' \n",
    "Vamos a hacer un problema de clasificacion. Asi que lo que vamos a predecir es\n",
    "si el vino es de buena calidad o no. Tomaremos el 6 como umbral para decidir si\n",
    "es bueno o no. \n",
    "'''\n",
    "data.loc[data['quality'] < 6, 'quality'] = 0\n",
    "data.loc[data['quality'] >= 6, 'quality'] = 1\n",
    "\n",
    "# Separamos los datos en variables y target\n",
    "X,y = data.iloc[:, :-1], data.iloc[:,-1]\n",
    "X_train, X_test, y_train, y_test = train_test_split(X, y, test_size = 0.2,\n",
    "                                                    random_state=123)\n",
    "\n",
    "# Preparo el clsificador\n",
    "clf_xgb = xgb.XGBClassifier(objective='binary:logistic', n_estimators=10,\n",
    "                            seed=123, use_label_encoder=False)\n",
    "clf_xgb.fit(X_train, y_train)\n",
    "preds_xgb = clf_xgb.predict(X_test)\n",
    "\n",
    "clf_lr = LR().fit(X_train, y_train)\n",
    "\n",
    "accuracy_xgb = float(np.sum(preds_xgb == y_test))/y_test.shape[0]\n",
    "print('Accuracy de XGBoost: ', accuracy_xgb)\n",
    "\n",
    "accuracy_lr = clf_lr.score(X_test, y_test)\n",
    "print('Accuracy de Regresion Lineal: ', accuracy_lr)"
   ]
  }
 ],
 "metadata": {
  "interpreter": {
   "hash": "27862999abd8e6afc011b7ea79b4068ff90fbfac42475b3a5968be5e57564d6e"
  },
  "kernelspec": {
   "display_name": "Python 3.8.5 ('base')",
   "language": "python",
   "name": "python3"
  },
  "language_info": {
   "codemirror_mode": {
    "name": "ipython",
    "version": 3
   },
   "file_extension": ".py",
   "mimetype": "text/x-python",
   "name": "python",
   "nbconvert_exporter": "python",
   "pygments_lexer": "ipython3",
   "version": "3.9.7"
  },
  "orig_nbformat": 4
 },
 "nbformat": 4,
 "nbformat_minor": 2
}
