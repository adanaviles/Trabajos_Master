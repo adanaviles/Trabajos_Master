{
 "cells": [
  {
   "cell_type": "code",
   "execution_count": 4,
   "metadata": {},
   "outputs": [],
   "source": [
    "import itertools\n",
    "import time"
   ]
  },
  {
   "cell_type": "code",
   "execution_count": 15,
   "metadata": {},
   "outputs": [
    {
     "name": "stdout",
     "output_type": "stream",
     "text": [
      "['1', '2', '3', '4']\n",
      "permu list = [('1',), ('2',), ('3',), ('4',)]\n",
      "combi list = [('1',), ('2',), ('3',), ('4',)]\n",
      "permu list = [('1', '2'), ('1', '3'), ('1', '4'), ('2', '1'), ('2', '3'), ('2', '4'), ('3', '1'), ('3', '2'), ('3', '4'), ('4', '1'), ('4', '2'), ('4', '3')]\n",
      "combi list = [('1', '2'), ('1', '3'), ('1', '4'), ('2', '3'), ('2', '4'), ('3', '4')]\n"
     ]
    }
   ],
   "source": [
    "num = 1234\n",
    "\n",
    "numList =[str(i) for i in str(num)]\n",
    "print(numList)\n",
    "print(\"permu list =\",list(itertools.permutations(numList, 1)))\n",
    "print(\"combi list =\",list(itertools.combinations(numList, 1)))\n",
    "print(\"permu list =\",list(itertools.permutations(numList, 2)))\n",
    "print(\"combi list =\",list(itertools.combinations(numList, 2)))"
   ]
  },
  {
   "cell_type": "code",
   "execution_count": 16,
   "metadata": {},
   "outputs": [
    {
     "name": "stdout",
     "output_type": "stream",
     "text": [
      "permuation list = [12, 13, 14, 21, 23, 24, 31, 32, 34, 41, 42, 43]\n",
      "combination list = [12, 13, 14, 23, 24, 34]\n"
     ]
    }
   ],
   "source": [
    "dataListPermu = [int(a+b) for a, b in itertools.permutations(numList, 2) ]\n",
    "print(\"permuation list =\",dataListPermu)\n",
    "\n",
    "dataListCombi = [int(a+b) for a, b in itertools.combinations(numList, 2)]  \n",
    "print(\"combination list =\",dataListCombi)"
   ]
  },
  {
   "cell_type": "code",
   "execution_count": 23,
   "metadata": {},
   "outputs": [
    {
     "name": "stdout",
     "output_type": "stream",
     "text": [
      "Geeks for gua Geeks for "
     ]
    }
   ],
   "source": [
    "l = ['Geeks', 'for', 'gua']\n",
    "   \n",
    "####################################################\n",
    "# Defino el iterador\n",
    "####################################################\n",
    "iterators = itertools.cycle(l)\n",
    "   \n",
    "####################################################\n",
    "# Creo el loop for\n",
    "####################################################\n",
    "for _ in range(5): \n",
    "    # La funcion next va iterando y siemopre devuelve el siguiente\n",
    "    print(next(iterators), end = \" \")"
   ]
  },
  {
   "cell_type": "code",
   "execution_count": 34,
   "metadata": {},
   "outputs": [
    {
     "name": "stdout",
     "output_type": "stream",
     "text": [
      "2 7 12 17 22 27 32 37 42 47 52 57 62 67 72 77 82 87 92 97 102 107 112 117 122 127 132 137 142 147 152 157 162 167 172 177 182 187 192 197 202 207 212 217 222 227 232 237 242 247 252 257 262 267 272 277 282 287 292 297 302 307 312 317 322 327 332 337 342 347 352 357 362 367 372 377 382 387 392 397 402 407 412 417 422 427 432 437 442 447 452 457 462 467 472 477 482 487 492 497 502 507 512 517 522 527 532 537 542 547 552 557 562 567 572 577 582 587 592 597 602 607 612 617 622 627 632 637 642 647 652 657 662 667 672 677 682 687 692 697 702 707 712 717 722 727 732 737 742 747 752 757 762 767 772 777 782 787 792 797 802 807 812 817 822 827 832 837 842 847 852 857 862 867 872 877 882 887 892 897 902 907 912 917 922 927 932 937 942 947 952 957 962 967 972 977 982 987 992 997 1002 1007 1012 "
     ]
    }
   ],
   "source": [
    "# Python program to demonstrate\n",
    "# infinite iterators\n",
    "# for in loop\n",
    "for i in itertools.count(2, 5): # Cuenta de 2 en 5 hasta el 35\n",
    "    if i == 1017:\n",
    "        break\n",
    "    else:\n",
    "        print(i, end =\" \")"
   ]
  },
  {
   "cell_type": "code",
   "execution_count": 37,
   "metadata": {},
   "outputs": [
    {
     "name": "stdout",
     "output_type": "stream",
     "text": [
      "A B 3 A B 3 A B 3 A B 3 A B 3 A B 3 A B 3 A B 3 A B 3 A B 3 A B 3 A B 3 A B 3 A B 3 A B 3 A B 3 A B 3 A B 3 A B 3 A B 3 A B 3 A B 3 A B 3 A B 3 A B 3 A B 3 A B 3 A B 3 A B 3 A B 3 A B 3 A B 3 A B 3 A B "
     ]
    }
   ],
   "source": [
    "# Python program to demonstrate\n",
    "# infinite iterators\n",
    "   \n",
    "count = 0\n",
    "   \n",
    "# for in loop\n",
    "for i in itertools.cycle('AB3'): #Cycla por a, b, 3... y para al llegar a 100\n",
    "    if count > 100:\n",
    "        break\n",
    "    else:\n",
    "        print(i, end = \" \")\n",
    "        count += 1"
   ]
  },
  {
   "cell_type": "code",
   "execution_count": 39,
   "metadata": {},
   "outputs": [
    {
     "name": "stdout",
     "output_type": "stream",
     "text": [
      "Printing the numbers repeatedly : \n",
      "[25, 25, 25, 25, 25, 25, 25, 25, 25, 25, 25, 25, 25, 25, 25, 25, 25, 25, 25, 25, 25, 25, 25, 25, 25, 25, 25, 25, 25, 25, 25, 25, 25, 25, 25, 25, 25, 25, 25, 25, 25, 25, 25, 25, 25, 25, 25, 25, 25, 25, 25, 25, 25, 25, 25, 25, 25, 25, 25, 25, 25, 25, 25, 25, 25, 25, 25, 25, 25, 25, 25, 25, 25, 25, 25, 25, 25, 25, 25, 25, 25, 25, 25, 25, 25, 25, 25, 25, 25, 25, 25, 25, 25, 25, 25, 25, 25, 25, 25, 25]\n"
     ]
    }
   ],
   "source": [
    "# using repeat() to repeatedly print number \n",
    "print (\"Printing the numbers repeatedly : \") \n",
    "print (list(itertools.repeat(25, 100)))"
   ]
  },
  {
   "cell_type": "code",
   "execution_count": 48,
   "metadata": {},
   "outputs": [
    {
     "name": "stdout",
     "output_type": "stream",
     "text": [
      "The cartesian product using repeat:\n",
      "[(1, 1, 1), (1, 1, 2), (1, 2, 1), (1, 2, 2), (2, 1, 1), (2, 1, 2), (2, 2, 1), (2, 2, 2)]\n",
      "\n",
      "The cartesian product of the containers:\n",
      "[('geeks', '2'), ('for', '2'), ('geeks', '2')]\n",
      "\n",
      "The cartesian product of the listas:\n",
      "[('geeks', 'a'), ('geeks', 'b'), ('for', 'a'), ('for', 'b'), ('geeks', 'a'), ('geeks', 'b')]\n",
      "\n",
      "The cartesian product of the containers:\n",
      "[('A', 3), ('A', 4), ('B', 3), ('B', 4)]\n"
     ]
    }
   ],
   "source": [
    "\n",
    "# import the product function from itertools module\n",
    "from itertools import product\n",
    "   \n",
    "print(\"The cartesian product using repeat:\")\n",
    "print(list(product([1, 2], repeat = 3))) # Producto cartesiano \n",
    "print()\n",
    "   \n",
    "print(\"The cartesian product of the containers:\")\n",
    "print(list(product(['geeks', 'for', 'geeks'], '2'))) # Producto de cada uno de los elementos \n",
    "print()\n",
    "print(\"The cartesian product of the listas:\")\n",
    "print(list(product(['geeks', 'for', 'geeks'], ['a','b']))) # Producto de cada uno de los elementos \n",
    "print()\n",
    "   \n",
    "print(\"The cartesian product of the containers:\")\n",
    "print(list(product('AB', [3, 4])))"
   ]
  },
  {
   "cell_type": "code",
   "execution_count": 58,
   "metadata": {},
   "outputs": [
    {
     "name": "stdout",
     "output_type": "stream",
     "text": [
      "All the permutations of the given list is:\n",
      "[(1, 'geeks'), (1, 'e'), ('geeks', 1), ('geeks', 'e'), ('e', 1), ('e', 'geeks')]\n",
      "\n",
      "All the permutations of the given string is:\n",
      "[('A', 'B'), ('B', 'A')]\n",
      "\n",
      "All the permutations of the given container is:\n",
      "[(0, 1), (0, 2), (1, 0), (1, 2), (2, 0), (2, 1)]\n"
     ]
    }
   ],
   "source": [
    "# import the product function from itertools module\n",
    "from itertools import permutations\n",
    "   \n",
    "print (\"All the permutations of the given list is:\") \n",
    "print (list(permutations([1, 'geeks', 'e'], 2))) #Permutaciones tomadas de 2 en 2, tambien podria poner un 3  y que feura de 3 en 3\n",
    "print()\n",
    "\n",
    "print (\"All the permutations of the given string is:\") \n",
    "print (list(permutations('AB')))\n",
    "print()\n",
    "   \n",
    "print (\"All the permutations of the given container is:\") \n",
    "print(list(permutations(range(3), 2))) #range(3) es 0,1,2"
   ]
  },
  {
   "cell_type": "code",
   "execution_count": 64,
   "metadata": {},
   "outputs": [
    {
     "name": "stdout",
     "output_type": "stream",
     "text": [
      "All the combination of list in sorted order(without replacement) is:\n",
      "[(1, 'geeks'), (1, 'e'), ('geeks', 'e')]\n",
      "\n",
      "All the combination of string in sorted order(without replacement) is:\n",
      "[('A', 'B'), ('A', 'C'), ('A', 'D'), ('B', 'C'), ('B', 'D'), ('C', 'D')]\n",
      "\n",
      "All the combination of list in sorted order(without replacement) is:\n",
      "[(0,), (1,), (2,), (3,)]\n"
     ]
    }
   ],
   "source": [
    "# import combinations from itertools module\n",
    "   \n",
    "from itertools import combinations\n",
    "   \n",
    "print (\"All the combination of list in sorted order(without replacement) is:\") \n",
    "print(list(combinations([1, 'geeks', 'e'], 2))) #aqui si es lo mismo 1,geeks que geeks,1\n",
    "print()\n",
    "   \n",
    "print (\"All the combination of string in sorted order(without replacement) is:\")\n",
    "print(list(combinations('ABCD', 2)))\n",
    "print()\n",
    "   \n",
    "print (\"All the combination of list in sorted order(without replacement) is:\")\n",
    "print(list(combinations(range(4), 1)))"
   ]
  },
  {
   "cell_type": "code",
   "execution_count": 60,
   "metadata": {},
   "outputs": [
    {
     "name": "stdout",
     "output_type": "stream",
     "text": [
      "All the combination of string in sorted order(with replacement) is:\n",
      "[('A', 'A'), ('A', 'B'), ('B', 'B')]\n",
      "\n",
      "All the combination of list in sorted order(with replacement) is:\n",
      "[(1, 1), (1, 2), (2, 2)]\n",
      "\n",
      "All the combination of container in sorted order(with replacement) is:\n",
      "[(0,), (1,)]\n"
     ]
    }
   ],
   "source": [
    "# import combinations from itertools module\n",
    "   \n",
    "from itertools import combinations_with_replacement\n",
    "   \n",
    "print (\"All the combination of string in sorted order(with replacement) is:\")\n",
    "print(list(combinations_with_replacement(\"AB\", 2)))\n",
    "print()\n",
    "   \n",
    "print (\"All the combination of list in sorted order(with replacement) is:\")\n",
    "print(list(combinations_with_replacement([1, 2], 2)))\n",
    "print()\n",
    "   \n",
    "print (\"All the combination of container in sorted order(with replacement) is:\")\n",
    "print(list(combinations_with_replacement(range(2), 1)))"
   ]
  },
  {
   "cell_type": "code",
   "execution_count": 65,
   "metadata": {},
   "outputs": [
    {
     "name": "stdout",
     "output_type": "stream",
     "text": [
      "The sum after each iteration is : [1, 5, 10, 17]\n",
      "The product after each iteration is : [1, 4, 20, 140]\n",
      "The sum after each iteration is : [1, 5, 10, 17]\n",
      "The product after each iteration is : [1, 4, 20, 140]\n"
     ]
    }
   ],
   "source": [
    "# Python code to demonstrate the working of \n",
    "# accumulate()\n",
    " \n",
    "#  accumulate(iter, func): This iterator takes two arguments, iterable target and the function which would be followed at each iteration of value in target.\n",
    "#  If no function is passed, addition takes place by default. If the input iterable is empty, the output iterable will also be empty.\n",
    "import itertools\n",
    "import operator\n",
    " \n",
    "# initializing list 1\n",
    "li1 = [1, 4, 5, 7]\n",
    "   \n",
    "# using accumulate()\n",
    "# prints the successive summation of elements\n",
    "print (\"The sum after each iteration is : \", end =\"\")\n",
    "print (list(itertools.accumulate(li1))) #Suma los datos con el anterior. 1, 1+4, 1+4+5, 1+4+5+7\n",
    "   \n",
    "# using accumulate()\n",
    "# prints the successive multiplication of elements\n",
    "print (\"The product after each iteration is : \", end =\"\")\n",
    "print (list(itertools.accumulate(li1, operator.mul)))  # lo mismo con los productos\n"
   ]
  },
  {
   "cell_type": "code",
   "execution_count": 79,
   "metadata": {},
   "outputs": [
    {
     "name": "stdout",
     "output_type": "stream",
     "text": [
      "The compressed values in string are : ['a', 'v', 'e', 'i', 'l', 'l']\n"
     ]
    }
   ],
   "source": [
    "# Python code to demonstrate the working of \n",
    "# and compress()\n",
    " \n",
    "# using compress() selectively print data values\n",
    "print (\"The compressed values in string are : \", end =\"\")\n",
    "print (list(itertools.compress('adanavilescahill', [1, 0, 0, 0, 0, 1, 0, 0, 1, 0, 0, 0, 0,1,1,1,1,1])))"
   ]
  },
  {
   "cell_type": "code",
   "execution_count": 87,
   "metadata": {},
   "outputs": [
    {
     "name": "stdout",
     "output_type": "stream",
     "text": [
      "The values after condition returns false : [3, 4, 4, 5, 7, 8]\n"
     ]
    }
   ],
   "source": [
    "# Python code to demonstrate the working of \n",
    "# dropwhile()\n",
    " \n",
    " \n",
    "# initializing list \n",
    "li = [2, 2,4,3,4, 4, 5, 7, 8]\n",
    "   \n",
    "# using dropwhile() imprime los elementos a partir del primer false\n",
    "print (\"The values after condition returns false : \", end =\"\")\n",
    "print (list(itertools.dropwhile(lambda x : x % 2 == 0, li)))"
   ]
  },
  {
   "cell_type": "code",
   "execution_count": 88,
   "metadata": {},
   "outputs": [
    {
     "name": "stdout",
     "output_type": "stream",
     "text": [
      "The values that return false to function are : [5, 7]\n"
     ]
    }
   ],
   "source": [
    "# Python code to demonstrate the working of \n",
    "# filterfalse()\n",
    "\n",
    "# initializing list \n",
    "li = [2, 4, 5, 7, 8]\n",
    " \n",
    "# using filterfalse() imprime los que devuelven false\n",
    "print (\"The values that return false to function are : \", end =\"\")\n",
    "print (list(itertools.filterfalse(lambda x : x % 2 == 0, li)))"
   ]
  },
  {
   "cell_type": "code",
   "execution_count": 95,
   "metadata": {},
   "outputs": [
    {
     "name": "stdout",
     "output_type": "stream",
     "text": [
      "The sliced list values are : [4, 7, 10]\n"
     ]
    }
   ],
   "source": [
    "#  Python code to demonstrate the working of \n",
    "# islice()\n",
    "   \n",
    "# initializing list \n",
    "li = [2, 4, 5, 7, 8, 10, 20]\n",
    "     \n",
    "# using islice() to slice the list acc. to need\n",
    "# starts printing from 2nd (empieza con el 1) index till 6th (valor numero 10) skipping 2\n",
    "print (\"The sliced list values are : \", end =\"\")\n",
    "print (list(itertools.islice(li, 1, 6, 2)))"
   ]
  },
  {
   "cell_type": "code",
   "execution_count": 100,
   "metadata": {},
   "outputs": [
    {
     "name": "stdout",
     "output_type": "stream",
     "text": [
      "The values acc. to function are : [1, 1, 4, 1]\n",
      "[10, 8, 9, 11]\n"
     ]
    }
   ],
   "source": [
    "# Python code to demonstrate the working of \n",
    "# starmap()\n",
    "\n",
    "   \n",
    "# initializing tuple list\n",
    "li = [ (1, 10, 5), (8, 4, 1), (5, 4, 9), (11, 10, 1) ]\n",
    "   \n",
    "# using starmap() for selection value acc. to function\n",
    "# selects min of all tuple values\n",
    "print (\"The values acc. to function are : \", end =\"\")\n",
    "print (list(itertools.starmap(min, li)))\n",
    "print (list(itertools.starmap(max, li)))"
   ]
  },
  {
   "cell_type": "code",
   "execution_count": 101,
   "metadata": {},
   "outputs": [
    {
     "name": "stdout",
     "output_type": "stream",
     "text": [
      "The list values till 1st false value are : [2, 4, 6]\n"
     ]
    }
   ],
   "source": [
    "\n",
    "# Python code to demonstrate the working of \n",
    "# takewhile()\n",
    "   \n",
    "# initializing list \n",
    "li = [2, 4, 6, 7, 8, 10, 20]\n",
    "   \n",
    "# using takewhile() to print values till condition is false.\n",
    "print (\"The list values till 1st false value are : \", end =\"\")\n",
    "print (list(itertools.takewhile(lambda x : x % 2 == 0, li )))"
   ]
  },
  {
   "cell_type": "code",
   "execution_count": 110,
   "metadata": {},
   "outputs": [
    {
     "name": "stdout",
     "output_type": "stream",
     "text": [
      "The iterators are : \n",
      "[2, 4, 6, 7, 8, 10, 20]\n",
      "[2, 4, 6, 7, 8, 10, 20]\n",
      "[2, 4, 6, 7, 8, 10, 20]\n",
      "Si los vuelvo a ejecutar estan vacios: \n",
      "[]\n",
      "[]\n",
      "[]\n"
     ]
    }
   ],
   "source": [
    "\n",
    "# Python code to demonstrate the working of \n",
    "# tee()\n",
    "   \n",
    "   \n",
    "# initializing list \n",
    "li = [2, 4, 6, 7, 8, 10, 20]\n",
    "   \n",
    "# storing list in iterator\n",
    "iti = iter(li) \n",
    "   \n",
    "# using tee() to make a list of iterators\n",
    "# makes list of 3 iterators having same values.\n",
    "it = itertools.tee(iti, 3)\n",
    "   \n",
    "# printing the values of iterators\n",
    "print (\"The iterators are : \")\n",
    "for i in range (0, 3):\n",
    "    print (list(it[i]))\n",
    "print (\"Si los vuelvo a ejecutar estan vacios: \")\n",
    "for i in range (0, 3):\n",
    "    print (list(it[i]))"
   ]
  },
  {
   "cell_type": "code",
   "execution_count": 103,
   "metadata": {},
   "outputs": [
    {
     "name": "stdout",
     "output_type": "stream",
     "text": [
      "r: 0 1 2 \n",
      "i1: [3, 4]\n"
     ]
    }
   ],
   "source": [
    "from itertools import *\n",
    "# Los nuevos iteradores creados por tee() comparten su entrada, por lo que el iterador original no debe usarse después de que se creen los nuevos.\n",
    "# Solo pueden \n",
    "r = islice(count(), 5)\n",
    "i1, i2 = tee(r)\n",
    "\n",
    "print('r:', end=' ')\n",
    "for i in r:\n",
    "    print(i, end=' ')\n",
    "    if i > 1:\n",
    "        break\n",
    "print()\n",
    "\n",
    "print('i1:', list(i1))"
   ]
  },
  {
   "cell_type": "code",
   "execution_count": 108,
   "metadata": {},
   "outputs": [
    {
     "name": "stdout",
     "output_type": "stream",
     "text": [
      "i1: []\n"
     ]
    }
   ],
   "source": []
  },
  {
   "cell_type": "code",
   "execution_count": 105,
   "metadata": {},
   "outputs": [
    {
     "name": "stdout",
     "output_type": "stream",
     "text": [
      "The combined values of iterables is  : \n",
      "('A', 'A') ('d', 'v') ('a', 'i') ('n', 'l') ('_', 'e') ('_', 's')\n"
     ]
    }
   ],
   "source": [
    "# Python code to demonstrate the working of \n",
    "# zip_longest()\n",
    "    \n",
    "import itertools\n",
    "   \n",
    "# using zip_longest() to combine two iterables.\n",
    "print (\"The combined values of iterables is  : \")\n",
    "print (*(itertools.zip_longest('Adan', 'Aviles', fillvalue ='_' )))"
   ]
  }
 ],
 "metadata": {
  "interpreter": {
   "hash": "3826b10687fca38988a38fb90514bf62f5cf16573c1e2da403a4fe6325ef5d60"
  },
  "kernelspec": {
   "display_name": "Python 3.6.8 64-bit (system)",
   "language": "python",
   "name": "python3"
  },
  "language_info": {
   "codemirror_mode": {
    "name": "ipython",
    "version": 3
   },
   "file_extension": ".py",
   "mimetype": "text/x-python",
   "name": "python",
   "nbconvert_exporter": "python",
   "pygments_lexer": "ipython3",
   "version": "3.6.8"
  },
  "orig_nbformat": 4
 },
 "nbformat": 4,
 "nbformat_minor": 2
}
