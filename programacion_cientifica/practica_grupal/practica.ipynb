{
 "cells": [
  {
   "cell_type": "markdown",
   "metadata": {},
   "source": [
    "# Trabajo grupal\n",
    "## Polinomios de Chebyshev y procesamiento de imágenes en Jupyter Notebooks\n",
    "### Autores: \n",
    "* AVILÉS CAHILL, ADÁN \n",
    "* BAILAZ PASCUA, ENRIQUE\n",
    "* CABRERA SÁNCHEZ, MONSERRAT\n",
    "* DIZ-LOIS PALOMARES, FERNANDO"
   ]
  },
  {
   "cell_type": "markdown",
   "metadata": {},
   "source": [
    "## Presentación del problema. \n",
    "Se procede a realizar ajustes e interpolaciones en Python utilizando *NumPy* y los módulos *interpolate* y optimize de *SciPy*. Estas funciones son\n",
    "* La función seno, f(x) = $\\sin$(x), con la cual trabajaremos entre (-$\\pi$, $\\pi$). \n",
    "  \n",
    "* La función de Runge, conocida por su alta oscilación en las aproximaciones polinomiales, y con ecuación r(x) = $\\dfrac{1}{1+25x^2}$. Tomaremos el abierto (-1,1) para este caso.\n",
    "  \n",
    "* La función Gaussiana f(x) = $\\mathcal{a}\\exp(-\\dfrac{(x-\\mathcal{b})^2}{2\\mathcal{c}^2})$, con parámetros $\\mathcal{a}=1$, $\\mathcal{b}=0$ y $\\mathcal{c}=\\sqrt{\\dfrac{1}{40}}$, dando lugar a g(x) = $e^{(-20x^2)}$, que estudiaremos también entre (-1, 1).\n",
    "#### Procedimiento\n",
    "Hemos decidido dividir el trabajo en tres archivos. El notebook con los resultados, un archivo .py con las contantes (los nodos) y otro archivo .py con las funciones. De esta manera evitamos sobrecargar el notebook final. "
   ]
  },
  {
   "cell_type": "code",
   "execution_count": 3,
   "metadata": {},
   "outputs": [],
   "source": [
    "# Importo mis propias funciones forzando a que se renueven en cada carga \n",
    "# ==============================================================================\n",
    "import constantes as const\n",
    "import funciones_auxiliares as F\n",
    "# Con autoreload forzamos que con cada cambio en los .py, se cargue de forma automática. \n",
    "%load_ext autoreload\n",
    "%autoreload 2\n",
    "# Importamos los paquetes a utilizar\n",
    "# ==============================================================================\n",
    "import numpy as np\n",
    "import scipy as sp\n",
    "from math import pi\n",
    "import matplotlib.pyplot as plt\n",
    "import matplotlib as mpl\n",
    "from sympy import  pprint\n",
    "# Para tener el estilo correcto\n",
    "from matplotlib import style\n",
    "style.use('default')"
   ]
  },
  {
   "cell_type": "markdown",
   "metadata": {},
   "source": [
    "### Aproximaciones y representaciones de la función seno.\n"
   ]
  },
  {
   "cell_type": "markdown",
   "metadata": {},
   "source": [
    "## Diferencias divididas\n",
    "#### Seno\n",
    "Calularemos en primer lugar las ordenadas para el seno."
   ]
  },
  {
   "cell_type": "code",
   "execution_count": 9,
   "metadata": {},
   "outputs": [
    {
     "data": {
      "text/plain": [
       "array([1.87804243e-86, 1.36512197e-55, 1.37573233e-31, 1.92217473e-14,\n",
       "       3.72347306e-04, 1.00000000e+00, 3.72347306e-04, 1.92217473e-14,\n",
       "       1.37573233e-31, 1.36512197e-55, 1.87804243e-86])"
      ]
     },
     "execution_count": 9,
     "metadata": {},
     "output_type": "execute_result"
    }
   ],
   "source": [
    "F.exp_vec(const.nodos_sin_11)"
   ]
  },
  {
   "cell_type": "code",
   "execution_count": null,
   "metadata": {},
   "outputs": [],
   "source": []
  }
 ],
 "metadata": {
  "interpreter": {
   "hash": "3826b10687fca38988a38fb90514bf62f5cf16573c1e2da403a4fe6325ef5d60"
  },
  "kernelspec": {
   "display_name": "Python 3.6.8 64-bit (system)",
   "language": "python",
   "name": "python3"
  },
  "language_info": {
   "codemirror_mode": {
    "name": "ipython",
    "version": 3
   },
   "file_extension": ".py",
   "mimetype": "text/x-python",
   "name": "python",
   "nbconvert_exporter": "python",
   "pygments_lexer": "ipython3",
   "version": "3.6.8"
  },
  "orig_nbformat": 4
 },
 "nbformat": 4,
 "nbformat_minor": 2
}
