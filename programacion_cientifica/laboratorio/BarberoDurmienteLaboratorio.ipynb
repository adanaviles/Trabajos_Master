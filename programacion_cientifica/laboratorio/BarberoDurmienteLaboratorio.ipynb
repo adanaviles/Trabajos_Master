{
 "cells": [
  {
   "cell_type": "markdown",
   "id": "9b62aa93",
   "metadata": {},
   "source": [
    "\n",
    "# Barbero durmiente\n",
    "\n",
    "Para tratar el problema se  ha implementado una clase que simula la Barberria con los procesos que se ejecutan dentro de ella.\n",
    "Se proporciona el esqueleto de la implementación de los procesos para que se marquen las zonas de exclusión mutua, de espera o de sincronazación. \n",
    "En el constructor de la Barberia se inicilizan todos los cerrojos, semaforos, condiciones y variables que se necesitan para la implementación."
   ]
  },
  {
   "cell_type": "code",
   "execution_count": 4,
   "id": "afc69bbb",
   "metadata": {},
   "outputs": [
    {
     "name": "stdout",
     "output_type": "stream",
     "text": [
      "El cliente MainThread llaga a la puerta de la barbería \n",
      "\n",
      "Esta en el sillon el MainThread\n",
      "\n",
      "El MainThread abandona la barbería\n",
      "\n"
     ]
    }
   ],
   "source": [
    "import threading\n",
    "import time\n",
    "import random\n",
    "\n",
    "class Barberia(threading.Thread):\n",
    "    def __init__(self):\n",
    "        #mecanismos y variables de control clientes y acceso a la sala\n",
    "        ####### inicializa cada uno con el tipo y valor oportuno####\n",
    "        #####puedes cambiar los nombres o añadir nuevos#######\n",
    "        #controla la entrada en la sala de espera\n",
    "        # Solo puedo tener 3 clientes en la sala de espera. \n",
    "        # Ojo, estar en la sala != de estar en la silla \n",
    "        self.entrarEnSala=threading.Semaphore(3)\n",
    "        #controla el número de clientes en la sala\n",
    "        #El numero de clientes en la sala\n",
    "        self.clientesEnSala=0\n",
    "        #garantiza exclusion para modificacion de variables de control de sala o acceso a secciones\n",
    "        self.exclusionMutuaSala=threading.Semaphore()\n",
    "        \n",
    "        #mecanismos y variables de contrrol del barbero\n",
    "        ####### inicializa cada uno con el tipo y valor oportuno #######\n",
    "        #####puedes cambiar los nombres o añadir nuevos#######\n",
    "        #controla el acesso al sillon de corte, puede poner clientes en espera y ser despertados\n",
    "        self.sillon = threading.Lock()\n",
    "        #controla lel estado del barbero\n",
    "        self.barbero_ocupado=False\n",
    "        #puede poner al barbero a dormir y ser despertado\n",
    "        self.barbero_dormido=True\n",
    "        \n",
    "\n",
    "    def actividadBarbero(self):\n",
    "        while True:\n",
    "            ### INCLUYE EL CÓDIGO NECESARIO PARA PROTOCOLO INICIAL   ###\n",
    "            ### consultar en exclusion mutua los clientes qUe hay en la sala###\n",
    "            ### si no hay clientes esperando se pone a dormir hasta que le despierten ####\n",
    "            self.exclusionMutuaSala.acquire() \n",
    "            if self.clientesEnSala != 0:\n",
    "                \n",
    "                print(\"El barbero da paso a un cliente\\n\")\n",
    "                ###  INTRODUCE EL CÓDIGO PARA CAMBIAR EL ESTADO DEL BARBERO ###\n",
    "                self.barbero_ocupado=True\n",
    "                print(\"El barbero corta a un cliente\\n\")\n",
    "                time.sleep(5)\n",
    "                self.sillon.notifyAll()\n",
    "                ###  INTRODUCE EL CÓDIGO PARA CAMBIAR EL ESTADO DEL BARBERO Y AVISAR A LOS CLIENTES DE LA SALA ###\n",
    "                self.barbero_ocupado=False\n",
    "                self.clientesEnSala -=1 \n",
    "            else:\n",
    "                self.barbero_ocupado=False\n",
    "                self.barbero_dormido=True\n",
    "            self.exclusionMutuaSala.release()\n",
    "            \n",
    "    def actividadCliente(self,name):   \n",
    "        ### INCLUYE EL CÓDIGO NECESARIO PARA PROTOCOLO INICIAL   ###  \n",
    "        print(\"El cliente \"+threading.currentThread().getName()+\" llega a la puerta de la barbería \\n\")\n",
    "        # El cliente intenta entrar en la sala \n",
    "        ### consultar en exclusion mutua el estado ddel barbero###\n",
    "        ### según estado entrar en la sala o no ####\n",
    "        self.exclusionMutuaSala.acquire() #Para que no entre ni salga nadie\n",
    "        if self.clientesEnSala < 3: #Si no hay 3 esperando, puedo entrar. \n",
    "            self.entrarEnSala.acquire()\n",
    "            self.clientesEnSala +=1 \n",
    "        else:\n",
    "            #Aqui podria poner un bucle para que espern en la puera\n",
    "            print(\"El cliente \"+threading.currentThread().getName()+\" se marcha por estar lleno \\n\")\n",
    "        \n",
    "        if self.barbero_dormido:\n",
    "            self.barbero_dormido=False\n",
    "        \n",
    "        self.exclusionMutuaSala.release() # Los demas pueden entrar o no a la sala\n",
    "           \n",
    "        if self.barbero_ocupado:\n",
    "            print (\"Esta en el sillon el \"+threading.currentThread().name+\"\\n\")\n",
    "            self.sillon.wait()\n",
    "            time.sleep(3)\n",
    "        else:\n",
    "            \n",
    "            print (\"El  cliente\"+threading.currentThread().name+\" se corta el pelo\\n\")\n",
    "            self.barbero_ocupado = True\n",
    "            \n",
    "        print (\"El \"+threading.currentThread().name+\" abandona la barbería\\n\")\n",
    "        \n",
    "        self.entrarEnSala.release()\n",
    "            \n",
    "        \n",
    "\n",
    "        \n",
    "\n",
    "if __name__==\"__main__\":\n",
    "        barberia= Barberia()\n",
    "        cliente1 = barberia.actividadCliente('e')\n",
    "        cliente1 = barberia.actividadCliente('e')\n",
    "                                             \n",
    "        ### INCLUYE EL CÓDIGO NECESARIO PARA CREAR E INICIALIZAR LOS HILOS  ###\n",
    "       \n",
    "        #barbero = \n",
    "        \n",
    "        ### clientes####\n",
    "\n",
    "\n"
   ]
  },
  {
   "cell_type": "code",
   "execution_count": 2,
   "id": "6266c1b0",
   "metadata": {},
   "outputs": [],
   "source": [
    "test = Barberia()\n"
   ]
  },
  {
   "cell_type": "code",
   "execution_count": 3,
   "id": "b44e6ee2",
   "metadata": {},
   "outputs": [
    {
     "data": {
      "text/plain": [
       "True"
      ]
     },
     "execution_count": 3,
     "metadata": {},
     "output_type": "execute_result"
    }
   ],
   "source": [
    "test.entrarEnSala.acquire()\n"
   ]
  },
  {
   "cell_type": "code",
   "execution_count": 4,
   "id": "4e190c74",
   "metadata": {},
   "outputs": [
    {
     "data": {
      "text/plain": [
       "True"
      ]
     },
     "execution_count": 4,
     "metadata": {},
     "output_type": "execute_result"
    }
   ],
   "source": [
    "test.entrarEnSala.acquire()"
   ]
  },
  {
   "cell_type": "code",
   "execution_count": 5,
   "id": "9b20a55a",
   "metadata": {},
   "outputs": [
    {
     "data": {
      "text/plain": [
       "True"
      ]
     },
     "execution_count": 5,
     "metadata": {},
     "output_type": "execute_result"
    }
   ],
   "source": [
    "test.entrarEnSala.acquire()"
   ]
  },
  {
   "cell_type": "code",
   "execution_count": 6,
   "id": "601a6c8c",
   "metadata": {},
   "outputs": [
    {
     "data": {
      "text/plain": [
       "True"
      ]
     },
     "execution_count": 6,
     "metadata": {},
     "output_type": "execute_result"
    }
   ],
   "source": [
    "test.entrarEnSala.acquire()"
   ]
  },
  {
   "cell_type": "code",
   "execution_count": 7,
   "id": "3de7392f",
   "metadata": {},
   "outputs": [],
   "source": [
    "test.entrarEnSala.acquire()"
   ]
  },
  {
   "cell_type": "code",
   "execution_count": 14,
   "id": "752d4fbf",
   "metadata": {},
   "outputs": [
    {
     "name": "stdout",
     "output_type": "stream",
     "text": [
      "Barber shop is opening\n",
      "Aaah, all done, going to sleep\n",
      ">> 0 entered the shop and is looking for a seat\n",
      "0 sat down in the waiting room\n",
      "Barber woke up\n",
      "0 is having a haircut\n",
      "Barber shop is opening\n",
      "Aaah, all done, going to sleep\n",
      ">> 1 entered the shop and is looking for a seat\n",
      "1 sat down in the waiting room\n",
      "Barber woke up\n",
      "1 is having a haircut\n",
      "0 is done\n",
      "Aaah, all done, going to sleep\n",
      "Barber shop is opening\n",
      "Aaah, all done, going to sleep\n",
      ">> 2 entered the shop and is looking for a seat\n",
      "2 sat down in the waiting room\n",
      "Barber woke up\n",
      "2 is having a haircut\n",
      "Barber woke up\n",
      "Aaah, all done, going to sleep\n",
      "Barber shop is opening\n",
      "Aaah, all done, going to sleep\n",
      ">> 3 entered the shop and is looking for a seat\n",
      "3 sat down in the waiting room\n",
      "Barber woke up\n",
      "3 is having a haircut\n",
      "Barber woke up\n",
      "Aaah, all done, going to sleep\n",
      "1 is done\n",
      "Aaah, all done, going to sleep\n",
      "2 is done\n",
      "Aaah, all done, going to sleep\n",
      "Barber shop is opening\n",
      "Aaah, all done, going to sleep\n",
      ">> 4 entered the shop and is looking for a seat\n",
      "4 sat down in the waiting room\n",
      "Barber woke up\n",
      "Barber woke up\n",
      "4 is having a haircut\n",
      "Barber woke up\n",
      "Aaah, all done, going to sleep\n",
      "Barber woke up\n",
      "Aaah, all done, going to sleep\n",
      "Aaah, all done, going to sleep\n",
      "3 is done\n",
      "Aaah, all done, going to sleep\n",
      "4 is done\n",
      "Aaah, all done, going to sleep\n"
     ]
    }
   ],
   "source": [
    "from threading import Thread, Lock, Event\n",
    "import time, random\n",
    "\n",
    "mutex = Lock()\n",
    "\n",
    "#Interval in seconds\n",
    "customerIntervalMin = 1\n",
    "customerIntervalMax = 2\n",
    "haircutDurationMin = 3\n",
    "haircutDurationMax = 4\n",
    "\n",
    "class BarberShop:\n",
    "\twaitingCustomers = []\n",
    "\n",
    "\tdef __init__(self, barber, numberOfSeats):\n",
    "\t\tself.barber = barber\n",
    "\t\tself.numberOfSeats = numberOfSeats\n",
    "\n",
    "\tdef openShop(self):\n",
    "\t\tprint('Barber shop is opening')\n",
    "\t\tworkingThread = Thread(target = self.barberGoToWork)\n",
    "\t\tworkingThread.start()\n",
    "\n",
    "\tdef barberGoToWork(self):\n",
    "\t\twhile True:\n",
    "\t\t\tmutex.acquire()\n",
    "\n",
    "\t\t\tif len(self.waitingCustomers) > 0:\n",
    "\t\t\t\tc = self.waitingCustomers[0]\n",
    "\t\t\t\tdel self.waitingCustomers[0]\n",
    "\t\t\t\tmutex.release()\n",
    "\t\t\t\tself.barber.cutHair(c)\n",
    "\t\t\telse:\n",
    "\t\t\t\tmutex.release()\n",
    "\t\t\t\tprint ('Aaah, all done, going to sleep')\n",
    "\t\t\t\tbarber.sleep()\n",
    "\t\t\t\tprint ('Barber woke up')\n",
    "\t\n",
    "\tdef enterBarberShop(self, customer):\n",
    "\t\tmutex.acquire()\n",
    "\t\tprint ('>> {0} entered the shop and is looking for a seat'.format(customer.name))\n",
    "\n",
    "\t\tif len(self.waitingCustomers) == self.numberOfSeats:\n",
    "\t\t\tprint ('Waiting room is full, {0} is leaving.'.format(customer.name))\n",
    "\t\t\tmutex.release()\n",
    "\t\telse:\n",
    "\t\t\tprint ('{0} sat down in the waiting room'.format(customer.name))\n",
    "\t\t\tself.waitingCustomers.append(c)\t\n",
    "\t\t\tmutex.release()\n",
    "\t\t\tbarber.wakeUp()\n",
    "\n",
    "class Customer:\n",
    "\tdef __init__(self, name):\n",
    "\t\tself.name = str(name)\n",
    "\n",
    "class Barber:\n",
    "\tbarberWorkingEvent = Event()\n",
    "\n",
    "\tdef sleep(self):\n",
    "\t\tself.barberWorkingEvent.wait()\n",
    "\n",
    "\tdef wakeUp(self):\n",
    "\t\tself.barberWorkingEvent.set()\n",
    "\n",
    "\tdef cutHair(self, customer):\n",
    "\t\t#Set barber as busy \n",
    "\t\tself.barberWorkingEvent.clear()\n",
    "\n",
    "\t\tprint ('{0} is having a haircut'.format(customer.name))\n",
    "\n",
    "\t\trandomHairCuttingTime = random.randrange(haircutDurationMin, haircutDurationMax+1)\n",
    "\t\ttime.sleep(randomHairCuttingTime)\n",
    "\t\tprint ('{0} is done'.format(customer.name))\n",
    "\n",
    "\n",
    "if __name__ == '__main__':\n",
    "    customers = []\n",
    "    for i in range(0,5):\n",
    "        customers.append(Customer(i))\n",
    "\n",
    "        barber = Barber()\n",
    "\n",
    "        barberShop = BarberShop(barber, numberOfSeats=3)\n",
    "        barberShop.openShop()\n",
    "\n",
    "        while len(customers) > 0:\n",
    "            c = customers.pop()\t\n",
    "            #New customer enters the barbershop\n",
    "            barberShop.enterBarberShop(c)\n",
    "            customerInterval = random.randrange(customerIntervalMin,customerIntervalMax+1)\n",
    "            time.sleep(customerInterval)"
   ]
  }
 ],
 "metadata": {
  "kernelspec": {
   "display_name": "Python 3",
   "language": "python",
   "name": "python3"
  },
  "language_info": {
   "codemirror_mode": {
    "name": "ipython",
    "version": 3
   },
   "file_extension": ".py",
   "mimetype": "text/x-python",
   "name": "python",
   "nbconvert_exporter": "python",
   "pygments_lexer": "ipython3",
   "version": "3.6.8"
  }
 },
 "nbformat": 4,
 "nbformat_minor": 5
}
