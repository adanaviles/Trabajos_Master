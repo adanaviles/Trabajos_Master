{
 "cells": [
  {
   "cell_type": "code",
   "execution_count": 4,
   "metadata": {},
   "outputs": [],
   "source": [
    "import string\n"
   ]
  },
  {
   "cell_type": "code",
   "execution_count": 8,
   "metadata": {},
   "outputs": [],
   "source": [
    "lista_abecedario_string = list(string.ascii_lowercase)\n",
    "lista_abecesario = ['a','b', 'c', 'd', 'e', 'f', 'g', 'h', 'i', 'j', 'k', 'l', 'm', 'n', 'o' ,'p' ,'q', 'r' ,'s', 't', 'u', 'v', 'w', 'x',  'y', 'z']"
   ]
  },
  {
   "cell_type": "code",
   "execution_count": 26,
   "metadata": {},
   "outputs": [
    {
     "name": "stdout",
     "output_type": "stream",
     "text": [
      "120\n"
     ]
    }
   ],
   "source": [
    "vocales = ['a', 'e', 'i' 'o', 'u']\n",
    "consonantes = list(filter(lambda x: x not in vocales, lista_abecesario))\n",
    "consonantes\n",
    "# lambda es una funcion anonima ejemplo con reduce\n",
    "from functools import reduce\n",
    "sequences = [1,2,3,4,5]\n",
    "product = reduce (lambda x, y: x*y, sequences)\n",
    "print(product)\n",
    "\n",
    "#clausura funciones valuadas que contienen variabñles ligadas\n",
    "def comp(threshold):\n",
    "    return lambda x: x < threshold\n",
    "func_a = comp(10)\n",
    "print(func_a(5))\n",
    "print(func_a(8)\n",
    "\n",
    "# funcion order superior funciones que toman funciones anonimas como argumento\n",
    "a = [1, 2, 3, 4, 5, 6]\n",
    "print filter(lambda x: x % 2 == 0, a)\n",
    "# Currying convertir funciones que toman varios argumentos en funciones con menos\n",
    "def divide(x, y):\n",
    "    return x / y\n",
    "def divisor(d):\n",
    "    return lambda x: divide(x, d)\n",
    "\n",
    "mitad = divisor(2)\n",
    "tercio = divisor(3)\n",
    "\n",
    "print mitad(32), tercio(32)\n",
    "\n"
   ]
  },
  {
   "cell_type": "code",
   "execution_count": 61,
   "metadata": {},
   "outputs": [
    {
     "data": {
      "text/plain": [
       "{'o': 1, 'm': 5, 'e': 3, 'p': 1, 'n': 1, 's': 1, 'l': 1}"
      ]
     },
     "execution_count": 61,
     "metadata": {},
     "output_type": "execute_result"
    }
   ],
   "source": [
    "def letras_iniciales(frase):\n",
    "    lista_palabras=frase.split()\n",
    "    diccionario=dict()\n",
    "    for p in lista_palabras:\n",
    "        primera=p[0]\n",
    "        if primera in diccionario:\n",
    "            diccionario[primera]+=1\n",
    "        else:\n",
    "            diccionario[primera]=1\n",
    "    return diccionario\n",
    "\n",
    "letrasiniciales=letras_iniciales(\" ole mi madre me mima mucho en este examen pero no soy listo\")\n",
    "letrasiniciales\n",
    "        \n"
   ]
  },
  {
   "cell_type": "code",
   "execution_count": 49,
   "metadata": {},
   "outputs": [
    {
     "data": {
      "text/plain": [
       "[('m', 5), ('e', 3), ('o', 1), ('p', 1), ('n', 1), ('s', 1), ('l', 1)]"
      ]
     },
     "execution_count": 49,
     "metadata": {},
     "output_type": "execute_result"
    }
   ],
   "source": [
    "import operator\n",
    "# Ordeeno las letras (items) por la frecuencai (itemgetter(1))\n",
    "letrasiniciales_ordenado = sorted(letrasiniciales.items(), key=operator.itemgetter(1), reverse=True)\n",
    "letrasiniciales_ordenado"
   ]
  },
  {
   "cell_type": "code",
   "execution_count": 66,
   "metadata": {},
   "outputs": [
    {
     "name": "stdout",
     "output_type": "stream",
     "text": [
      "['o', 'e']\n",
      "[1, 3]\n",
      "['m', 'p', 'n', 's', 'l']\n",
      "[5, 1, 1, 1, 1]\n"
     ]
    }
   ],
   "source": [
    "def separador_por_frecuencias(diccionario):\n",
    "    # Ordenamos por frecuencia el diccionario\n",
    "    vocales = ['a', 'e', 'i', 'o']\n",
    "    diccionario_ordenado = sorted(diccionario.items(), key=operator.itemgetter(1), reverse=True)\n",
    "    lista_vocales_frecuencia = list()\n",
    "    lista_vocales_orden = list()\n",
    "    lista_consonantes_frecuencia = list()\n",
    "    lista_consonantes_orden = list()\n",
    "    for par in diccionario.items():\n",
    "        if par[0] in vocales:\n",
    "            lista_vocales_frecuencia.append(par[0])\n",
    "            lista_vocales_orden.append(par[1])\n",
    "        else:\n",
    "            lista_consonantes_frecuencia.append(par[0])\n",
    "            lista_consonantes_orden.append(par[1])\n",
    "    return lista_vocales_frecuencia, lista_vocales_orden, lista_consonantes_frecuencia, lista_consonantes_orden\n",
    "\n",
    "[lista1, lista2, lista3, lista4] = separador_por_frecuencias(letrasiniciales)\n",
    "print(lista1)\n",
    "print(lista2)\n",
    "print(lista3)\n",
    "print(lista4)"
   ]
  },
  {
   "cell_type": "code",
   "execution_count": 68,
   "metadata": {},
   "outputs": [
    {
     "name": "stdout",
     "output_type": "stream",
     "text": [
      "{'o': 1, 'e': 3}\n",
      "{'m': 5, 'p': 1, 'n': 1, 's': 1, 'l': 1}\n"
     ]
    }
   ],
   "source": [
    "diccionario_vocales ={elem[0]:elem[1] for elem in zip(lista1,lista2)}\n",
    "diccionario_consonantes ={elem[0]:elem[1] for elem in zip(lista3,lista4)}\n",
    "print(diccionario_vocales)\n",
    "print(diccionario_consonantes)"
   ]
  },
  {
   "cell_type": "code",
   "execution_count": 86,
   "metadata": {},
   "outputs": [
    {
     "data": {
      "text/html": [
       "<div>\n",
       "<style scoped>\n",
       "    .dataframe tbody tr th:only-of-type {\n",
       "        vertical-align: middle;\n",
       "    }\n",
       "\n",
       "    .dataframe tbody tr th {\n",
       "        vertical-align: top;\n",
       "    }\n",
       "\n",
       "    .dataframe thead th {\n",
       "        text-align: right;\n",
       "    }\n",
       "</style>\n",
       "<table border=\"1\" class=\"dataframe\">\n",
       "  <thead>\n",
       "    <tr style=\"text-align: right;\">\n",
       "      <th></th>\n",
       "      <th>cursos</th>\n",
       "      <th>candidatos</th>\n",
       "      <th>votantes</th>\n",
       "    </tr>\n",
       "  </thead>\n",
       "  <tbody>\n",
       "    <tr>\n",
       "      <th>0</th>\n",
       "      <td>primero</td>\n",
       "      <td>10</td>\n",
       "      <td>66</td>\n",
       "    </tr>\n",
       "    <tr>\n",
       "      <th>1</th>\n",
       "      <td>segundo</td>\n",
       "      <td>12</td>\n",
       "      <td>5</td>\n",
       "    </tr>\n",
       "    <tr>\n",
       "      <th>2</th>\n",
       "      <td>tercero</td>\n",
       "      <td>11</td>\n",
       "      <td>104</td>\n",
       "    </tr>\n",
       "    <tr>\n",
       "      <th>3</th>\n",
       "      <td>cuarto</td>\n",
       "      <td>15</td>\n",
       "      <td>20</td>\n",
       "    </tr>\n",
       "    <tr>\n",
       "      <th>4</th>\n",
       "      <td>quinto</td>\n",
       "      <td>50</td>\n",
       "      <td>100</td>\n",
       "    </tr>\n",
       "  </tbody>\n",
       "</table>\n",
       "</div>"
      ],
      "text/plain": [
       "    cursos  candidatos  votantes\n",
       "0  primero          10        66\n",
       "1  segundo          12         5\n",
       "2  tercero          11       104\n",
       "3   cuarto          15        20\n",
       "4   quinto          50       100"
      ]
     },
     "execution_count": 86,
     "metadata": {},
     "output_type": "execute_result"
    }
   ],
   "source": [
    "import pandas as pd\n",
    "datos = [{'cursos':'primero','candidatos': 10, 'votantes': 66}, \n",
    "         {'cursos':'segundo','candidatos': 12, 'votantes': 5 },\n",
    "         {'cursos':'tercero','candidatos': 11, 'votantes': 104}, \n",
    "         {'cursos':'cuarto','candidatos': 15, 'votantes': 20}, \n",
    "         {'cursos':'quinto','candidatos': 50, 'votantes': 100} ]\n",
    "df2=pd.DataFrame(datos)\n",
    "\n",
    "df2"
   ]
  },
  {
   "cell_type": "code",
   "execution_count": 81,
   "metadata": {},
   "outputs": [
    {
     "data": {
      "text/html": [
       "<div>\n",
       "<style scoped>\n",
       "    .dataframe tbody tr th:only-of-type {\n",
       "        vertical-align: middle;\n",
       "    }\n",
       "\n",
       "    .dataframe tbody tr th {\n",
       "        vertical-align: top;\n",
       "    }\n",
       "\n",
       "    .dataframe thead th {\n",
       "        text-align: right;\n",
       "    }\n",
       "</style>\n",
       "<table border=\"1\" class=\"dataframe\">\n",
       "  <thead>\n",
       "    <tr style=\"text-align: right;\">\n",
       "      <th></th>\n",
       "      <th>index</th>\n",
       "      <th>cursos</th>\n",
       "      <th>candidatos</th>\n",
       "      <th>votantes</th>\n",
       "    </tr>\n",
       "  </thead>\n",
       "  <tbody>\n",
       "    <tr>\n",
       "      <th>0</th>\n",
       "      <td>2</td>\n",
       "      <td>tercero</td>\n",
       "      <td>11</td>\n",
       "      <td>104</td>\n",
       "    </tr>\n",
       "    <tr>\n",
       "      <th>1</th>\n",
       "      <td>4</td>\n",
       "      <td>quinto</td>\n",
       "      <td>50</td>\n",
       "      <td>100</td>\n",
       "    </tr>\n",
       "    <tr>\n",
       "      <th>2</th>\n",
       "      <td>0</td>\n",
       "      <td>primero</td>\n",
       "      <td>10</td>\n",
       "      <td>66</td>\n",
       "    </tr>\n",
       "    <tr>\n",
       "      <th>3</th>\n",
       "      <td>3</td>\n",
       "      <td>cuarto</td>\n",
       "      <td>15</td>\n",
       "      <td>20</td>\n",
       "    </tr>\n",
       "    <tr>\n",
       "      <th>4</th>\n",
       "      <td>1</td>\n",
       "      <td>segundo</td>\n",
       "      <td>12</td>\n",
       "      <td>5</td>\n",
       "    </tr>\n",
       "  </tbody>\n",
       "</table>\n",
       "</div>"
      ],
      "text/plain": [
       "   index   cursos  candidatos  votantes\n",
       "0      2  tercero          11       104\n",
       "1      4   quinto          50       100\n",
       "2      0  primero          10        66\n",
       "3      3   cuarto          15        20\n",
       "4      1  segundo          12         5"
      ]
     },
     "execution_count": 81,
     "metadata": {},
     "output_type": "execute_result"
    }
   ],
   "source": [
    "def ordenar_por_votante(df):\n",
    "    df_ordenado_votantes = df.sort_values(by = 'votantes', ascending= False)\n",
    "    df_ordenado_votantes = df_ordenado_votantes.reset_index()\n",
    "    return df_ordenado_votantes\n",
    "nuevo_df= ordenar_por_votante(df2)\n",
    "nuevo_df"
   ]
  },
  {
   "cell_type": "code",
   "execution_count": 108,
   "metadata": {},
   "outputs": [
    {
     "data": {
      "text/html": [
       "<div>\n",
       "<style scoped>\n",
       "    .dataframe tbody tr th:only-of-type {\n",
       "        vertical-align: middle;\n",
       "    }\n",
       "\n",
       "    .dataframe tbody tr th {\n",
       "        vertical-align: top;\n",
       "    }\n",
       "\n",
       "    .dataframe thead th {\n",
       "        text-align: right;\n",
       "    }\n",
       "</style>\n",
       "<table border=\"1\" class=\"dataframe\">\n",
       "  <thead>\n",
       "    <tr style=\"text-align: right;\">\n",
       "      <th></th>\n",
       "      <th>cursos</th>\n",
       "      <th>candidatos</th>\n",
       "      <th>votantes</th>\n",
       "    </tr>\n",
       "  </thead>\n",
       "  <tbody>\n",
       "    <tr>\n",
       "      <th>2</th>\n",
       "      <td>tercero</td>\n",
       "      <td>11</td>\n",
       "      <td>104</td>\n",
       "    </tr>\n",
       "  </tbody>\n",
       "</table>\n",
       "</div>"
      ],
      "text/plain": [
       "    cursos  candidatos  votantes\n",
       "2  tercero          11       104"
      ]
     },
     "execution_count": 108,
     "metadata": {},
     "output_type": "execute_result"
    }
   ],
   "source": [
    "def fila_mayor_votante(df):\n",
    "    # con df2['votantes'].max() obtengo el maximo\n",
    "    # despues cojo la fila que tenga el maximo con el [df2['votantes'] ==...\n",
    "    # con el index tomo su indice\n",
    "    # con loc devuelvo la fila\n",
    "    fila_mayor = df.loc[df[df['votantes'] == df['votantes'].max()].index]\n",
    "    return fila_mayor\n",
    "fila_mayor_votante(df2)"
   ]
  },
  {
   "cell_type": "code",
   "execution_count": 125,
   "metadata": {},
   "outputs": [
    {
     "data": {
      "text/html": [
       "<div>\n",
       "<style scoped>\n",
       "    .dataframe tbody tr th:only-of-type {\n",
       "        vertical-align: middle;\n",
       "    }\n",
       "\n",
       "    .dataframe tbody tr th {\n",
       "        vertical-align: top;\n",
       "    }\n",
       "\n",
       "    .dataframe thead th {\n",
       "        text-align: right;\n",
       "    }\n",
       "</style>\n",
       "<table border=\"1\" class=\"dataframe\">\n",
       "  <thead>\n",
       "    <tr style=\"text-align: right;\">\n",
       "      <th></th>\n",
       "      <th>index</th>\n",
       "      <th>cursos</th>\n",
       "      <th>candidatos</th>\n",
       "      <th>votantes</th>\n",
       "    </tr>\n",
       "  </thead>\n",
       "  <tbody>\n",
       "    <tr>\n",
       "      <th>4</th>\n",
       "      <td>1</td>\n",
       "      <td>segundo</td>\n",
       "      <td>12</td>\n",
       "      <td>5</td>\n",
       "    </tr>\n",
       "    <tr>\n",
       "      <th>3</th>\n",
       "      <td>3</td>\n",
       "      <td>cuarto</td>\n",
       "      <td>15</td>\n",
       "      <td>20</td>\n",
       "    </tr>\n",
       "  </tbody>\n",
       "</table>\n",
       "</div>"
      ],
      "text/plain": [
       "   index   cursos  candidatos  votantes\n",
       "4      1  segundo          12         5\n",
       "3      3   cuarto          15        20"
      ]
     },
     "execution_count": 125,
     "metadata": {},
     "output_type": "execute_result"
    }
   ],
   "source": [
    "def fila_menores(df):\n",
    "   # Para quedarme con las dos filas con el menor numero de votantes solo tengo que coger los dos ultimos vaores\n",
    "   # de la lista ordenada de mayor a menor\n",
    "    df_ordenado = ordenar_por_votante(df)\n",
    "    # Con len tengo el numero de filas\n",
    "    final = len(df_ordenado)\n",
    "    df_filas_menores = df_ordenado.loc[[final-1, final-2]]\n",
    "    return df_filas_menores\n",
    "fila_menores(df2)"
   ]
  },
  {
   "cell_type": "code",
   "execution_count": 139,
   "metadata": {},
   "outputs": [
    {
     "data": {
      "text/html": [
       "<div>\n",
       "<style scoped>\n",
       "    .dataframe tbody tr th:only-of-type {\n",
       "        vertical-align: middle;\n",
       "    }\n",
       "\n",
       "    .dataframe tbody tr th {\n",
       "        vertical-align: top;\n",
       "    }\n",
       "\n",
       "    .dataframe thead th {\n",
       "        text-align: right;\n",
       "    }\n",
       "</style>\n",
       "<table border=\"1\" class=\"dataframe\">\n",
       "  <thead>\n",
       "    <tr style=\"text-align: right;\">\n",
       "      <th></th>\n",
       "      <th>cursos</th>\n",
       "      <th>candidatos</th>\n",
       "      <th>votantes</th>\n",
       "    </tr>\n",
       "  </thead>\n",
       "  <tbody>\n",
       "    <tr>\n",
       "      <th>0</th>\n",
       "      <td>primero</td>\n",
       "      <td>10.0</td>\n",
       "      <td>66.0</td>\n",
       "    </tr>\n",
       "    <tr>\n",
       "      <th>1</th>\n",
       "      <td>segundo</td>\n",
       "      <td>12.0</td>\n",
       "      <td>5.0</td>\n",
       "    </tr>\n",
       "    <tr>\n",
       "      <th>2</th>\n",
       "      <td>tercero</td>\n",
       "      <td>11.0</td>\n",
       "      <td>104.0</td>\n",
       "    </tr>\n",
       "    <tr>\n",
       "      <th>3</th>\n",
       "      <td>cuarto</td>\n",
       "      <td>15.0</td>\n",
       "      <td>20.0</td>\n",
       "    </tr>\n",
       "    <tr>\n",
       "      <th>4</th>\n",
       "      <td>quinto</td>\n",
       "      <td>50.0</td>\n",
       "      <td>100.0</td>\n",
       "    </tr>\n",
       "    <tr>\n",
       "      <th>medias</th>\n",
       "      <td>NaN</td>\n",
       "      <td>19.6</td>\n",
       "      <td>59.0</td>\n",
       "    </tr>\n",
       "  </tbody>\n",
       "</table>\n",
       "</div>"
      ],
      "text/plain": [
       "         cursos  candidatos  votantes\n",
       "0       primero        10.0      66.0\n",
       "1       segundo        12.0       5.0\n",
       "2       tercero        11.0     104.0\n",
       "3        cuarto        15.0      20.0\n",
       "4        quinto        50.0     100.0\n",
       "medias      NaN        19.6      59.0"
      ]
     },
     "execution_count": 139,
     "metadata": {},
     "output_type": "execute_result"
    }
   ],
   "source": [
    "def add_fila_medias(df):\n",
    "   # calculo en primer lugar las medias\n",
    "    # fila_nueva= {'cursos': 'NaN', 'candidatos': df['candidatos'].mean(), 'votantes': df['votantes'].mean()}\n",
    "    df.loc['medias'] = ['NaN', df['candidatos'].mean(), df['votantes'].mean() ]\n",
    "    return df\n",
    "add_fila_medias(df2)"
   ]
  },
  {
   "cell_type": "code",
   "execution_count": 2,
   "metadata": {},
   "outputs": [
    {
     "name": "stdout",
     "output_type": "stream",
     "text": [
      "Estas son las elecciones :Curso 2021-22\n",
      "Los datos son \n",
      "         candidatos  votantes\n",
      "primero          10       100\n",
      "segundo          20        50\n",
      "tercero          30        30\n"
     ]
    }
   ],
   "source": [
    "import pandas as pd\n",
    "class Elecciones:\n",
    "    def __init__(self,nombre,cursos,numero_candidatos,votantes):\n",
    "        # Cursos, numero y candidatos son listas\n",
    "        self.nombre=nombre\n",
    "        self.dataframe=self.construirDataframe(cursos,numero_candidatos,votantes)\n",
    "        \n",
    "    def construirDataframe(self, cursos,numero_candidatos, votantes):\n",
    "        df=pd.DataFrame(index = cursos)    \n",
    "        df['candidatos'] = numero_candidatos\n",
    "        df['votantes'] = votantes\n",
    "        return df\n",
    "\n",
    "    def media_votantes(self):\n",
    "        return self.dataframe['votantes'].mean()\n",
    "\n",
    "    def media_candidatos(self):\n",
    "        return self.dataframe['candidatos'].mean()\n",
    "\n",
    "    def add_medias(self):\n",
    "        self.dataframe.loc['medias'] = [self.dataframe['candidatos'].mean(), self.dataframe['votantes'].mean() ]\n",
    "        return self.dataframe\n",
    "\n",
    "    def __str__(self):\n",
    "        return \"Estas son las elecciones :\"+self.nombre+\"\\nLos datos son \\n\"+str(self.dataframe)\n",
    "cursos = ['primero','segundo', 'tercero']\n",
    "candidatos  = [10, 20, 30]\n",
    "votantes = [100, 50, 30]\n",
    "elecciones  = Elecciones('Curso 2021-22',cursos, candidatos, votantes )\n",
    "print(elecciones)\n"
   ]
  },
  {
   "cell_type": "code",
   "execution_count": 3,
   "metadata": {},
   "outputs": [
    {
     "name": "stdout",
     "output_type": "stream",
     "text": [
      "El edificio es :FranciscoRicci\n",
      " Y esta localizado en Madrid \n",
      "Sus temperaturas por estacion son \n",
      "    Invierno  Verano  Primavera  Oton\n",
      "P1       2.0    30.0         15   8.0\n",
      "P2       7.5    31.0         16   6.5\n",
      "P3       0.3    32.5         17  12.0\n"
     ]
    }
   ],
   "source": [
    "import string\n",
    "class TemperaturaEdificio:\n",
    "    def __init__(self,nombre,localizacion,lista_estaciones,lista_temperaturas):\n",
    "        self.nombre = nombre\n",
    "        self.localizacion = localizacion\n",
    "        self.dataframe = self.construirDataframe(lista_estaciones,lista_temperaturas)\n",
    "        \n",
    "    def construirDataframe(self, lista_estaciones,lista_temperaturas):\n",
    "        # lista_temperaturas ha de ser una lista de listas\n",
    "        df=pd.DataFrame(index=[\"P1\",\"P2\", \"P3\"])\n",
    "        for i in range(0,len(lista_estaciones)):\n",
    "            df[lista_estaciones[i]] = lista_temperaturas[i]       \n",
    "        return df\n",
    "    \n",
    "    def obtener_temperatur_estacion(self,estacion):\n",
    "        return self.dataframe[estacion]\n",
    "    \n",
    "    def obtener_temperatur_planta(self,planta):\n",
    "        return self.dataframe.loc[planta]\n",
    "    \n",
    "    def maximo_y_minimo_estaciones(self):\n",
    "            lista_maximos = []\n",
    "            lista_minimos = []\n",
    "            for col in self.dataframe.columns:\n",
    "                lista_maximos.append(self.dataframe[col].max())\n",
    "                lista_minimos.append(self.dataframe[col].min())\n",
    "            self.dataframe.loc['maximo_en_la_estacion'] = lista_maximos\n",
    "            self.dataframe.loc['minimo_en_la_estacion'] = lista_minimos\n",
    "            return self.dataframe\n",
    "\n",
    "    def maximo_y_minimo_planta(self):\n",
    "        self.dataframe['maximo_en_planta'] = self.dataframe.max(axis=1)\n",
    "        self.dataframe['minim_en_planta'] = self.dataframe.max(axis=1)\n",
    "        return self.dataframe\n",
    "\n",
    "    def __str__(self):\n",
    "        # Primero hago que el dataframe tenga los maximos y los minimos asi que los ejecuto de esta forma para que el dataframe se soberescriba\n",
    "        # Podriamos hacerlo con copias para no perder el original, pero tampoco se nos pide en un principio.\n",
    "\n",
    "        return \"El edificio es :\"+self.nombre+\"\\n Y esta localizado en \"+ self.localizacion +\" \\nSus temperaturas por estacion son \\n\"+str(self.dataframe)\n",
    "\n",
    "estaciones = ['Invierno', 'Verano', 'Primavera', 'Oton']\n",
    "lista_temperaturas = [\n",
    "                        [2.0, 7.5, 0.3], #temp invierno\n",
    "                        [30, 31, 32.5], # temp verano\n",
    "                        [15, 16, 17], # temp primavera\n",
    "                        [8, 6.5, 12 ] # temp otn\n",
    "                    ]\n",
    "temp_edificio=TemperaturaEdificio(\"FranciscoRicci\",'Madrid', estaciones, lista_temperaturas)\n",
    "print(temp_edificio)"
   ]
  },
  {
   "cell_type": "code",
   "execution_count": 186,
   "metadata": {},
   "outputs": [],
   "source": [
    "import threading\n",
    "class Tunel:\n",
    "    def __init__(self):\n",
    "        self.semaforoNS=threading.Semaphore(3)\n",
    "        self.semaforoSN=threading.Semaphore(1)\n",
    "        self.cuantos=0\n",
    "        self.exmutua=threading.Lock()\n",
    "        self.estadoNS=True\n",
    "        self.estadoSN=False\n",
    "        self.esperarNorte=threading.Condition()\n",
    "        self.esperarSur=threading.Condition()\n",
    "   \n",
    "        \n",
    "    def entrarNS(self):\n",
    "        #en primer lugar se necesita comporbar que su sentido esta abierto se puede hacer con un lock\n",
    "        #tambien una condicionsería buena porque es mas eficienºte la gestion de la espera\n",
    "        with self.esperarNorte:\n",
    "            if not self.estadoNS:\n",
    "                self.esperarNorte.Condition.wait()\n",
    "        #comprueba si hay sitio en el tunel\n",
    "        self.semaforoNS.acquire()\n",
    "        #tendria que modificar la variable cuantos en ex. mutua, otro lock\n",
    "        #entra el tunel se puede simular con sleep() \n",
    "        #al salirdel tunel libera el semaforo modifica la variable cuantos en ex. mutua pero si vale 1 cambia el sentido a sur -norte, la modifica y libera el semaforo\n",
    "        #despierta los del sur\n",
    "        self.semaforoNS.release()\n",
    "        with self.esperarSur:\n",
    "            self.esperarSur.notifyAll()\n",
    "        \n",
    "    def entrarSN(self):\n",
    "        #en primer lugar se necesita comporbar que su sentido esta abierto se puede hacer con un lock\n",
    "        #tambien una condicionsería buena porque es mas eficiente la gestion de la espera\n",
    "        with self.esperarSur:\n",
    "            if not self.estadoSN:\n",
    "                self.esperarSur.Condition.wait()\n",
    "        #comprueba si hay sitio en el tunel\n",
    "        self.semaforoSN.acquire()\n",
    "        #tendria que modificar la variable cuantos en ex. mutua, otro lock\n",
    "        #entra el tunel se puede simular con sleep() \n",
    "        #al salir del tunel libera el semaforo y despierta a los del norte\n",
    "        self.semaforoSN.release()\n",
    "        with self.esperarNorte:\n",
    "            self.esperarNorte.notifyAll()\n",
    "        \n",
    "        \n",
    "        \n",
    "    \n",
    "        \n",
    "        "
   ]
  }
 ],
 "metadata": {
  "interpreter": {
   "hash": "fad349bc2091ea79e990c0168c75f5798d7695cee9a706e492a9dde48f013484"
  },
  "kernelspec": {
   "display_name": "Python 3.9.7 64-bit",
   "language": "python",
   "name": "python3"
  },
  "language_info": {
   "codemirror_mode": {
    "name": "ipython",
    "version": 3
   },
   "file_extension": ".py",
   "mimetype": "text/x-python",
   "name": "python",
   "nbconvert_exporter": "python",
   "pygments_lexer": "ipython3",
   "version": "3.9.7"
  },
  "orig_nbformat": 4
 },
 "nbformat": 4,
 "nbformat_minor": 2
}
