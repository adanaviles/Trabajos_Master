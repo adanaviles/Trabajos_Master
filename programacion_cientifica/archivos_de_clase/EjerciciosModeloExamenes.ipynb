{
 "cells": [
  {
   "cell_type": "markdown",
   "id": "90a4a41a",
   "metadata": {},
   "source": [
    "# Propuesta de ejercicio Dataframes y POO"
   ]
  },
  {
   "cell_type": "markdown",
   "id": "cbeab4fc",
   "metadata": {},
   "source": [
    "Crear un DataFrame con la notas de un estudiante correspondientes a dos parciales de dos asignaturas. Puede construirlo a partir de listas o diccionarios. Las columnas deben tener los nombres de las asignaturas y las filas los nombres de los parciales. El resultado debe ser algo similar a esto.\n",
    "<img src=\"Tabla.png\" />\n",
    "\n",
    "https://www.codigopiton.com/como-crear-un-dataframe-con-pandas-y-python/#como-crear-un-dataframe-a-partir-de-una-lista-de-diccionarios"
   ]
  },
  {
   "cell_type": "code",
   "execution_count": 1,
   "id": "dcb00d51",
   "metadata": {},
   "outputs": [
    {
     "data": {
      "text/html": [
       "<div>\n",
       "<style scoped>\n",
       "    .dataframe tbody tr th:only-of-type {\n",
       "        vertical-align: middle;\n",
       "    }\n",
       "\n",
       "    .dataframe tbody tr th {\n",
       "        vertical-align: top;\n",
       "    }\n",
       "\n",
       "    .dataframe thead th {\n",
       "        text-align: right;\n",
       "    }\n",
       "</style>\n",
       "<table border=\"1\" class=\"dataframe\">\n",
       "  <thead>\n",
       "    <tr style=\"text-align: right;\">\n",
       "      <th></th>\n",
       "      <th>matematicas</th>\n",
       "      <th>lengua</th>\n",
       "    </tr>\n",
       "  </thead>\n",
       "  <tbody>\n",
       "    <tr>\n",
       "      <th>P1</th>\n",
       "      <td>2.0</td>\n",
       "      <td>6.0</td>\n",
       "    </tr>\n",
       "    <tr>\n",
       "      <th>P2</th>\n",
       "      <td>7.5</td>\n",
       "      <td>6.5</td>\n",
       "    </tr>\n",
       "  </tbody>\n",
       "</table>\n",
       "</div>"
      ],
      "text/plain": [
       "    matematicas  lengua\n",
       "P1          2.0     6.0\n",
       "P2          7.5     6.5"
      ]
     },
     "execution_count": 1,
     "metadata": {},
     "output_type": "execute_result"
    }
   ],
   "source": [
    "import pandas as pd\n",
    "import numpy as np\n",
    "import pandas as pd\n",
    "datos = [{'carrera':'primero','velocidad': 10, 'aguante': 66}, \n",
    "         {'carrera':'segundo','velocidad': 12, 'aguante': 5 },\n",
    "         {'carrera':'tercero','velocidad': 11, 'votantes': 104} ]\n",
    "df2=pd.DataFrame(datos)\n",
    "df_ordenado_votantes = df.sort_values(by = 'aguante', ascending= False)\n",
    "df_ordenado_votantes = df_ordenado_votantes.reset_index()\n",
    "datos={'matematicas':[2.0, 7.5],'lengua':[6.0, 6.5]}\n",
    "\n",
    "df1=pd.DataFrame(datos,index=[\"P1\",\"P2\"])\n",
    "\n",
    "df1"
   ]
  },
  {
   "cell_type": "code",
   "execution_count": 2,
   "id": "43b013b4",
   "metadata": {},
   "outputs": [
    {
     "data": {
      "text/html": [
       "<div>\n",
       "<style scoped>\n",
       "    .dataframe tbody tr th:only-of-type {\n",
       "        vertical-align: middle;\n",
       "    }\n",
       "\n",
       "    .dataframe tbody tr th {\n",
       "        vertical-align: top;\n",
       "    }\n",
       "\n",
       "    .dataframe thead th {\n",
       "        text-align: right;\n",
       "    }\n",
       "</style>\n",
       "<table border=\"1\" class=\"dataframe\">\n",
       "  <thead>\n",
       "    <tr style=\"text-align: right;\">\n",
       "      <th></th>\n",
       "      <th>matematicas</th>\n",
       "      <th>lengua</th>\n",
       "    </tr>\n",
       "  </thead>\n",
       "  <tbody>\n",
       "    <tr>\n",
       "      <th>P1</th>\n",
       "      <td>2.0</td>\n",
       "      <td>6.0</td>\n",
       "    </tr>\n",
       "    <tr>\n",
       "      <th>P2</th>\n",
       "      <td>7.5</td>\n",
       "      <td>6.5</td>\n",
       "    </tr>\n",
       "  </tbody>\n",
       "</table>\n",
       "</div>"
      ],
      "text/plain": [
       "    matematicas  lengua\n",
       "P1          2.0     6.0\n",
       "P2          7.5     6.5"
      ]
     },
     "execution_count": 2,
     "metadata": {},
     "output_type": "execute_result"
    }
   ],
   "source": [
    "datos=[{'matematicas':2.0,'lengua':6.0},{'matematicas':7.5,'lengua':6.5}]\n",
    "df2=pd.DataFrame(datos,index=[\"P1\",\"P2\"])\n",
    "\n",
    "df2"
   ]
  },
  {
   "cell_type": "code",
   "execution_count": 3,
   "id": "3e714873",
   "metadata": {},
   "outputs": [
    {
     "data": {
      "text/html": [
       "<div>\n",
       "<style scoped>\n",
       "    .dataframe tbody tr th:only-of-type {\n",
       "        vertical-align: middle;\n",
       "    }\n",
       "\n",
       "    .dataframe tbody tr th {\n",
       "        vertical-align: top;\n",
       "    }\n",
       "\n",
       "    .dataframe thead th {\n",
       "        text-align: right;\n",
       "    }\n",
       "</style>\n",
       "<table border=\"1\" class=\"dataframe\">\n",
       "  <thead>\n",
       "    <tr style=\"text-align: right;\">\n",
       "      <th></th>\n",
       "      <th>matematicas</th>\n",
       "      <th>lengua</th>\n",
       "    </tr>\n",
       "  </thead>\n",
       "  <tbody>\n",
       "    <tr>\n",
       "      <th>P1</th>\n",
       "      <td>2.0</td>\n",
       "      <td>6.0</td>\n",
       "    </tr>\n",
       "    <tr>\n",
       "      <th>P2</th>\n",
       "      <td>7.5</td>\n",
       "      <td>6.5</td>\n",
       "    </tr>\n",
       "  </tbody>\n",
       "</table>\n",
       "</div>"
      ],
      "text/plain": [
       "    matematicas  lengua\n",
       "P1          2.0     6.0\n",
       "P2          7.5     6.5"
      ]
     },
     "execution_count": 3,
     "metadata": {},
     "output_type": "execute_result"
    }
   ],
   "source": [
    "matematicas=[2.0,7.5]\n",
    "lengua=[6.0,6.5]\n",
    "df3=pd.DataFrame(index=[\"P1\",\"P2\"])\n",
    "df3['matematicas']=matematicas\n",
    "df3['lengua']=lengua\n",
    "df3"
   ]
  },
  {
   "cell_type": "markdown",
   "id": "e355f290",
   "metadata": {},
   "source": [
    "**Implementar la función que calcule la nota media de cada asignatura y la incorpore al DataFrame como una fila**"
   ]
  },
  {
   "cell_type": "code",
   "execution_count": 4,
   "id": "dbaa6c67",
   "metadata": {},
   "outputs": [],
   "source": [
    "def media_asignaturas(dataframe):\n",
    "    num_col=dataframe.shape[1]\n",
    "    return dataframe.iloc[:, 0:num_col].mean()"
   ]
  },
  {
   "cell_type": "code",
   "execution_count": 5,
   "id": "cf28f6f2",
   "metadata": {},
   "outputs": [],
   "source": [
    "lista=media_asignaturas(df1)"
   ]
  },
  {
   "cell_type": "code",
   "execution_count": 6,
   "id": "31679ede",
   "metadata": {},
   "outputs": [
    {
     "data": {
      "text/plain": [
       "matematicas    4.75\n",
       "lengua         6.25\n",
       "dtype: float64"
      ]
     },
     "execution_count": 6,
     "metadata": {},
     "output_type": "execute_result"
    }
   ],
   "source": [
    "lista"
   ]
  },
  {
   "cell_type": "code",
   "execution_count": 7,
   "id": "e378ef67",
   "metadata": {},
   "outputs": [
    {
     "data": {
      "text/html": [
       "<div>\n",
       "<style scoped>\n",
       "    .dataframe tbody tr th:only-of-type {\n",
       "        vertical-align: middle;\n",
       "    }\n",
       "\n",
       "    .dataframe tbody tr th {\n",
       "        vertical-align: top;\n",
       "    }\n",
       "\n",
       "    .dataframe thead th {\n",
       "        text-align: right;\n",
       "    }\n",
       "</style>\n",
       "<table border=\"1\" class=\"dataframe\">\n",
       "  <thead>\n",
       "    <tr style=\"text-align: right;\">\n",
       "      <th></th>\n",
       "      <th>matematicas</th>\n",
       "      <th>lengua</th>\n",
       "    </tr>\n",
       "  </thead>\n",
       "  <tbody>\n",
       "    <tr>\n",
       "      <th>P1</th>\n",
       "      <td>2.00</td>\n",
       "      <td>6.00</td>\n",
       "    </tr>\n",
       "    <tr>\n",
       "      <th>P2</th>\n",
       "      <td>7.50</td>\n",
       "      <td>6.50</td>\n",
       "    </tr>\n",
       "    <tr>\n",
       "      <th>media asignatura</th>\n",
       "      <td>4.75</td>\n",
       "      <td>6.25</td>\n",
       "    </tr>\n",
       "  </tbody>\n",
       "</table>\n",
       "</div>"
      ],
      "text/plain": [
       "                  matematicas  lengua\n",
       "P1                       2.00    6.00\n",
       "P2                       7.50    6.50\n",
       "media asignatura         4.75    6.25"
      ]
     },
     "execution_count": 7,
     "metadata": {},
     "output_type": "execute_result"
    }
   ],
   "source": [
    "df1.loc['media asignatura']=lista\n",
    "df1"
   ]
  },
  {
   "cell_type": "code",
   "execution_count": 8,
   "id": "0623a848",
   "metadata": {},
   "outputs": [
    {
     "data": {
      "text/html": [
       "<div>\n",
       "<style scoped>\n",
       "    .dataframe tbody tr th:only-of-type {\n",
       "        vertical-align: middle;\n",
       "    }\n",
       "\n",
       "    .dataframe tbody tr th {\n",
       "        vertical-align: top;\n",
       "    }\n",
       "\n",
       "    .dataframe thead th {\n",
       "        text-align: right;\n",
       "    }\n",
       "</style>\n",
       "<table border=\"1\" class=\"dataframe\">\n",
       "  <thead>\n",
       "    <tr style=\"text-align: right;\">\n",
       "      <th></th>\n",
       "      <th>matematicas</th>\n",
       "      <th>lengua</th>\n",
       "    </tr>\n",
       "  </thead>\n",
       "  <tbody>\n",
       "    <tr>\n",
       "      <th>P1</th>\n",
       "      <td>2.00</td>\n",
       "      <td>6.00</td>\n",
       "    </tr>\n",
       "    <tr>\n",
       "      <th>P2</th>\n",
       "      <td>7.50</td>\n",
       "      <td>6.50</td>\n",
       "    </tr>\n",
       "    <tr>\n",
       "      <th>medias asignaturas</th>\n",
       "      <td>4.75</td>\n",
       "      <td>6.25</td>\n",
       "    </tr>\n",
       "  </tbody>\n",
       "</table>\n",
       "</div>"
      ],
      "text/plain": [
       "                    matematicas  lengua\n",
       "P1                         2.00    6.00\n",
       "P2                         7.50    6.50\n",
       "medias asignaturas         4.75    6.25"
      ]
     },
     "execution_count": 8,
     "metadata": {},
     "output_type": "execute_result"
    }
   ],
   "source": [
    "def media_asignaturas2(dataframe):\n",
    "    medias=[]\n",
    "    for i in dataframe.columns:\n",
    "        medias.append(dataframe[i].mean())\n",
    "    dataframe.loc[\"medias asignaturas\"]=medias\n",
    "    \n",
    "media_asignaturas2(df2)\n",
    "df2"
   ]
  },
  {
   "cell_type": "markdown",
   "id": "754bf50e",
   "metadata": {},
   "source": [
    "**Implementar una función sobre el dataframe que calcule las media de las notas de los primeros y segundos parciales e incopore la columna al Dataframe**"
   ]
  },
  {
   "cell_type": "code",
   "execution_count": 9,
   "id": "925052dc",
   "metadata": {},
   "outputs": [],
   "source": [
    "def media_parciales(dataframe):\n",
    "    dataframe[\"media parciales\"]=[np.mean([dataframe.loc[i][\"matematicas\"],dataframe.loc[i][\"lengua\"]]) for i in dataframe.index]"
   ]
  },
  {
   "cell_type": "code",
   "execution_count": 10,
   "id": "1ce0ed6f",
   "metadata": {},
   "outputs": [
    {
     "data": {
      "text/html": [
       "<div>\n",
       "<style scoped>\n",
       "    .dataframe tbody tr th:only-of-type {\n",
       "        vertical-align: middle;\n",
       "    }\n",
       "\n",
       "    .dataframe tbody tr th {\n",
       "        vertical-align: top;\n",
       "    }\n",
       "\n",
       "    .dataframe thead th {\n",
       "        text-align: right;\n",
       "    }\n",
       "</style>\n",
       "<table border=\"1\" class=\"dataframe\">\n",
       "  <thead>\n",
       "    <tr style=\"text-align: right;\">\n",
       "      <th></th>\n",
       "      <th>matematicas</th>\n",
       "      <th>lengua</th>\n",
       "      <th>media parciales</th>\n",
       "    </tr>\n",
       "  </thead>\n",
       "  <tbody>\n",
       "    <tr>\n",
       "      <th>P1</th>\n",
       "      <td>2.00</td>\n",
       "      <td>6.00</td>\n",
       "      <td>4.0</td>\n",
       "    </tr>\n",
       "    <tr>\n",
       "      <th>P2</th>\n",
       "      <td>7.50</td>\n",
       "      <td>6.50</td>\n",
       "      <td>7.0</td>\n",
       "    </tr>\n",
       "    <tr>\n",
       "      <th>medias asignaturas</th>\n",
       "      <td>4.75</td>\n",
       "      <td>6.25</td>\n",
       "      <td>5.5</td>\n",
       "    </tr>\n",
       "  </tbody>\n",
       "</table>\n",
       "</div>"
      ],
      "text/plain": [
       "                    matematicas  lengua  media parciales\n",
       "P1                         2.00    6.00              4.0\n",
       "P2                         7.50    6.50              7.0\n",
       "medias asignaturas         4.75    6.25              5.5"
      ]
     },
     "execution_count": 10,
     "metadata": {},
     "output_type": "execute_result"
    }
   ],
   "source": [
    "media_parciales(df2)\n",
    "df2"
   ]
  },
  {
   "cell_type": "markdown",
   "id": "7b6025bd",
   "metadata": {},
   "source": [
    "## Clases y objetos"
   ]
  },
  {
   "cell_type": "markdown",
   "id": "8b37e367",
   "metadata": {},
   "source": [
    "**Construir una clase estudiante que cuente con los atributos nombre, edad y el dataframe del ejercicio anterior con las notas.\n",
    "En el constructor se debe inicializar los atributos nombre y edad de estudiante y crear el dataframe de notas construyendolo internamente en la clase**"
   ]
  },
  {
   "cell_type": "code",
   "execution_count": 11,
   "id": "23ca4b27",
   "metadata": {},
   "outputs": [],
   "source": [
    "class Estudiante:\n",
    "    def __init__(self,nombre,edad,lista_asignaturas,listas_notas):\n",
    "        self.nombre=nombre\n",
    "        self.edad=edad\n",
    "        self.dataframe=self.construirDataframe(lista_asignaturas,listas_notas)\n",
    "        \n",
    "    \n",
    "    def construirDataframe(self, lista_asignaturas,listas_notas):\n",
    "        df=pd.DataFrame(index=[\"P1\",\"P2\"])\n",
    "        for i in range(0,len(lista_asignaturas)-1):\n",
    "            df[lista_asignaturas[i]]=listas_notas[i]       \n",
    "        return df"
   ]
  },
  {
   "cell_type": "markdown",
   "id": "b28d4f0c",
   "metadata": {},
   "source": [
    "**Implementar los metodos necesarios para obtener las notas por asignatura y las notas por parcial**"
   ]
  },
  {
   "cell_type": "code",
   "execution_count": 12,
   "id": "7d8fc8aa",
   "metadata": {},
   "outputs": [],
   "source": [
    "class Estudiante:\n",
    "    def __init__(self,nombre,edad,lista_asignaturas,listas_notas):\n",
    "        self.nombre=nombre\n",
    "        self.edad=edad\n",
    "        self.dataframe=self.construirDataframe(lista_asignaturas,listas_notas)\n",
    "        \n",
    "    \n",
    "    def construirDataframe(self, lista_asignaturas,listas_notas):\n",
    "        df=pd.DataFrame(index=[\"P1\",\"P2\"])\n",
    "        for i in range(0,len(lista_asignaturas)-1):\n",
    "            df[lista_asignaturas[i]]=listas_notas[i]       \n",
    "        return df\n",
    "    \n",
    "    def obtenerNotasAsig(self,asig):\n",
    "        return self.dataframe[asig]\n",
    "    \n",
    "    def obtenerNotasParcial(self,asig):\n",
    "        return self.dataframe.loc[asig]"
   ]
  },
  {
   "cell_type": "markdown",
   "id": "ff8002ad",
   "metadata": {},
   "source": [
    "**Transformar las funciones de cálculo de medias anteriores en método de las class**"
   ]
  },
  {
   "cell_type": "code",
   "execution_count": 13,
   "id": "9b20474c",
   "metadata": {},
   "outputs": [],
   "source": [
    "class Estudiante:\n",
    "    def __init__(self,nombre,edad,lista_asignaturas,listas_notas):\n",
    "        self.nombre=nombre\n",
    "        self.edad=edad\n",
    "        self.dataframe=self.construirDataframe(lista_asignaturas,listas_notas)\n",
    "        \n",
    "    \n",
    "    def construirDataframe(self, lista_asignaturas,listas_notas):\n",
    "        df=pd.DataFrame(index=[\"P1\",\"P2\"])\n",
    "        for i in range(0,len(lista_asignaturas)-1):\n",
    "            df[lista_asignaturas[i]]=listas_notas[i]       \n",
    "        return df\n",
    "    \n",
    "    def obtenerNotasAsig(self,asig):\n",
    "        return self.dataframe[asig]\n",
    "    \n",
    "    def obtenerNotasParcial(self,asig):\n",
    "        return self.dataframe.loc[asig]\n",
    "    \n",
    "    def calcularNotasMediasParcial(self):\n",
    "        self.dataframe[\"medias parcial\"]=[np.mean([self.dataframe.loc[i][\"matematicas\"],self.dataframe.loc[i][\"lengua\"]]) for i in self.dataframe.index]\n",
    "        \n",
    "    def calculaMediaAsignaturas(self):\n",
    "        num_col=self.dataframe.shape[1]\n",
    "        return self.dataframe.iloc[:, 0:num_col].mean()"
   ]
  },
  {
   "cell_type": "markdown",
   "id": "cf312a85",
   "metadata": {},
   "source": [
    "**Implementar un método para mostrar los datos del alumno**"
   ]
  },
  {
   "cell_type": "code",
   "execution_count": 14,
   "id": "55180576",
   "metadata": {},
   "outputs": [],
   "source": [
    "class Estudiante:\n",
    "    def __init__(self,nombre,edad,lista_asignaturas,listas_notas):\n",
    "        self.nombre=nombre\n",
    "        self.edad=edad\n",
    "        self.dataframe=self.construirDataframe(lista_asignaturas,listas_notas)\n",
    "        \n",
    "    \n",
    "    def construirDataframe(self, lista_asignaturas,listas_notas):\n",
    "        df=pd.DataFrame(index=[\"P1\",\"P2\"])\n",
    "        for i in range(0,len(lista_asignaturas)):\n",
    "            df[lista_asignaturas[i]]=listas_notas[i]       \n",
    "        return df\n",
    "    \n",
    "    def obtenerNotasAsig(self,asig):\n",
    "        return self.dataframe[asig]\n",
    "    \n",
    "    def obtenerNotasParcial(self,asig):\n",
    "        return self.dataframe.loc[asig]\n",
    "    \n",
    "    def calcularNotasMediasParcial(self):\n",
    "        self.dataframe[\"medias parcial\"]=[np.mean([self.dataframe.loc[i][\"matematicas\"],self.dataframe.loc[i][\"lengua\"]]) for i in self.dataframe.index]\n",
    "        \n",
    "    def calculaMediaAsignaturas(self):\n",
    "        num_col=self.dataframe.shape[1]\n",
    "        return self.dataframe.iloc[:, 0:num_col].mean()\n",
    "    \n",
    "    def __str__(self):\n",
    "        return \"El alumno se llama :\"+self.nombre+\"\\nTiene la edad de: \"+str(self.edad)+\" años\\nSus notas son \\n\"+str(self.dataframe)"
   ]
  },
  {
   "cell_type": "code",
   "execution_count": 15,
   "id": "16eb9672",
   "metadata": {},
   "outputs": [],
   "source": [
    "matematicas=[2,7.5]\n",
    "lengua=[6,6.5]\n",
    "estudiante=Estudiante(\"pedro\",23, [\"matematicas\",\"lengua\"],[matematicas,lengua])"
   ]
  },
  {
   "cell_type": "code",
   "execution_count": 16,
   "id": "2ff5427b",
   "metadata": {},
   "outputs": [
    {
     "name": "stdout",
     "output_type": "stream",
     "text": [
      "El alumno se llama :pedro\n",
      "Tiene la edad de: 23 años\n",
      "Sus notas son \n",
      "    matematicas  lengua\n",
      "P1          2.0     6.0\n",
      "P2          7.5     6.5\n"
     ]
    }
   ],
   "source": [
    "print(estudiante)"
   ]
  },
  {
   "cell_type": "code",
   "execution_count": 17,
   "id": "707785b6",
   "metadata": {},
   "outputs": [
    {
     "data": {
      "text/plain": [
       "P1    2.0\n",
       "P2    7.5\n",
       "Name: matematicas, dtype: float64"
      ]
     },
     "execution_count": 17,
     "metadata": {},
     "output_type": "execute_result"
    }
   ],
   "source": [
    "estudiante.obtenerNotasAsig(\"matematicas\")"
   ]
  },
  {
   "cell_type": "code",
   "execution_count": null,
   "id": "e30bbffa",
   "metadata": {},
   "outputs": [],
   "source": [
    "estudiante.obtenerNotasParcial(\"P1\")"
   ]
  },
  {
   "cell_type": "code",
   "execution_count": null,
   "id": "66fd038a",
   "metadata": {},
   "outputs": [],
   "source": [
    "estudiante.calcularNotasMediasParcial()\n",
    "print(estudiante)"
   ]
  },
  {
   "cell_type": "code",
   "execution_count": null,
   "id": "2f8123e0",
   "metadata": {},
   "outputs": [],
   "source": [
    "estudiante.calculaMediaAsignaturas()\n",
    "print(estudiante)"
   ]
  },
  {
   "cell_type": "code",
   "execution_count": null,
   "id": "c154c67d",
   "metadata": {},
   "outputs": [],
   "source": []
  }
 ],
 "metadata": {
  "kernelspec": {
   "display_name": "Python 3 (ipykernel)",
   "language": "python",
   "name": "python3"
  },
  "language_info": {
   "codemirror_mode": {
    "name": "ipython",
    "version": 3
   },
   "file_extension": ".py",
   "mimetype": "text/x-python",
   "name": "python",
   "nbconvert_exporter": "python",
   "pygments_lexer": "ipython3",
   "version": "3.9.7"
  }
 },
 "nbformat": 4,
 "nbformat_minor": 5
}
