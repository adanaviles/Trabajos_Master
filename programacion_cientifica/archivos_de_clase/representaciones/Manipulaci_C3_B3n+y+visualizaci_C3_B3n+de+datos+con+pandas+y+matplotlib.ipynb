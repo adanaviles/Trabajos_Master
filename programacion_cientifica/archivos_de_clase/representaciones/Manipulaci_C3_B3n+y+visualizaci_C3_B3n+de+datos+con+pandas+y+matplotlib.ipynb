{
 "cells": [
  {
   "cell_type": "markdown",
   "id": "bridal-street",
   "metadata": {},
   "source": [
    "<p style=\"text-align:left\"><img src=\"logo.png\"></p>\n",
    "Computación científica con Python<br>\n",
    "Mª Luisa  Díez Platas"
   ]
  },
  {
   "cell_type": "markdown",
   "id": "hungarian-fifth",
   "metadata": {},
   "source": [
    "\n",
    "# <font color='blue'>Manipulación y visualización de datos  con pandas y matplotlib</span>"
   ]
  },
  {
   "cell_type": "markdown",
   "id": "other-retail",
   "metadata": {},
   "source": [
    "Se va a usar los DataFrames de pandas y la biblioteca matplotlib para las visualizaciones.<br>\n",
    "El objetivo es :<br>\n",
    "    1. Creación de DataFrames a  partir de E/S de datos desde archivos. <br>\n",
    "    2. Transformacion y preparación de datos.<br>\n",
    "    3. Visualizaciones de los datos."
   ]
  },
  {
   "cell_type": "markdown",
   "id": "returning-omega",
   "metadata": {},
   "source": [
    "Entrada / Salida\n",
    "-------------------"
   ]
  },
  {
   "cell_type": "markdown",
   "id": "critical-florida",
   "metadata": {},
   "source": [
    "Se cuenta con un archivo Excel con las calificaciones de unos alumnos"
   ]
  },
  {
   "cell_type": "markdown",
   "id": "stainless-alexander",
   "metadata": {},
   "source": [
    "<img src=\"estudiantes.png\" width=\"500\">"
   ]
  },
  {
   "cell_type": "markdown",
   "id": "multiple-professor",
   "metadata": {},
   "source": [
    "A partir de estos datos vamos a hacer algunos cambios y visualizaciones.\n",
    "Si se observa la tabla, los números  aparecen con una coma como separador decimal. Esto se debe a que en  Excel esta configurado este formato numérico. Veremos que esto luego se va a tener que  cambiar."
   ]
  },
  {
   "cell_type": "markdown",
   "id": "54d34f57",
   "metadata": {},
   "source": [
    "### Creación del DataFrame"
   ]
  },
  {
   "cell_type": "markdown",
   "id": "competitive-overall",
   "metadata": {},
   "source": [
    "Se importa pandas y se usa la función para la lectura del archivo. Se indica el separador."
   ]
  },
  {
   "cell_type": "code",
   "execution_count": 1,
   "id": "demographic-laser",
   "metadata": {},
   "outputs": [
    {
     "data": {
      "text/html": [
       "<div>\n",
       "<style scoped>\n",
       "    .dataframe tbody tr th:only-of-type {\n",
       "        vertical-align: middle;\n",
       "    }\n",
       "\n",
       "    .dataframe tbody tr th {\n",
       "        vertical-align: top;\n",
       "    }\n",
       "\n",
       "    .dataframe thead th {\n",
       "        text-align: right;\n",
       "    }\n",
       "</style>\n",
       "<table border=\"1\" class=\"dataframe\">\n",
       "  <thead>\n",
       "    <tr style=\"text-align: right;\">\n",
       "      <th></th>\n",
       "      <th>Id_Estudiante</th>\n",
       "      <th>Nombre_Estudiante</th>\n",
       "      <th>Curso</th>\n",
       "      <th>Nota_Ex1</th>\n",
       "      <th>Nota_Ex2</th>\n",
       "      <th>Nota_Total</th>\n",
       "    </tr>\n",
       "  </thead>\n",
       "  <tbody>\n",
       "    <tr>\n",
       "      <th>0</th>\n",
       "      <td>ID1</td>\n",
       "      <td>Pedro Rodríguez</td>\n",
       "      <td>1</td>\n",
       "      <td>4,6</td>\n",
       "      <td>3,5</td>\n",
       "      <td>4,16</td>\n",
       "    </tr>\n",
       "    <tr>\n",
       "      <th>1</th>\n",
       "      <td>ID2</td>\n",
       "      <td>Luis Sánchez</td>\n",
       "      <td>1</td>\n",
       "      <td>7,3</td>\n",
       "      <td>8</td>\n",
       "      <td>7,58</td>\n",
       "    </tr>\n",
       "    <tr>\n",
       "      <th>2</th>\n",
       "      <td>ID3</td>\n",
       "      <td>María Santos</td>\n",
       "      <td>2</td>\n",
       "      <td>8,6</td>\n",
       "      <td>9</td>\n",
       "      <td>8,76</td>\n",
       "    </tr>\n",
       "    <tr>\n",
       "      <th>3</th>\n",
       "      <td>ID4</td>\n",
       "      <td>Dolores Martos</td>\n",
       "      <td>2</td>\n",
       "      <td>10</td>\n",
       "      <td>8,5</td>\n",
       "      <td>9,4</td>\n",
       "    </tr>\n",
       "    <tr>\n",
       "      <th>4</th>\n",
       "      <td>ID5</td>\n",
       "      <td>Ana Olmedo</td>\n",
       "      <td>1</td>\n",
       "      <td>5</td>\n",
       "      <td>6,3</td>\n",
       "      <td>5,52</td>\n",
       "    </tr>\n",
       "    <tr>\n",
       "      <th>5</th>\n",
       "      <td>ID6</td>\n",
       "      <td>Maria Salas</td>\n",
       "      <td>1</td>\n",
       "      <td>5</td>\n",
       "      <td>8,5</td>\n",
       "      <td>6,4</td>\n",
       "    </tr>\n",
       "    <tr>\n",
       "      <th>6</th>\n",
       "      <td>ID7</td>\n",
       "      <td>Carmen Castro</td>\n",
       "      <td>1</td>\n",
       "      <td>4,6</td>\n",
       "      <td>6,3</td>\n",
       "      <td>5,28</td>\n",
       "    </tr>\n",
       "    <tr>\n",
       "      <th>7</th>\n",
       "      <td>ID8</td>\n",
       "      <td>Luis Díez</td>\n",
       "      <td>1</td>\n",
       "      <td>5</td>\n",
       "      <td>8</td>\n",
       "      <td>6,2</td>\n",
       "    </tr>\n",
       "    <tr>\n",
       "      <th>8</th>\n",
       "      <td>ID9</td>\n",
       "      <td>Rosa Cienfuegos</td>\n",
       "      <td>2</td>\n",
       "      <td>5</td>\n",
       "      <td>9</td>\n",
       "      <td>6,6</td>\n",
       "    </tr>\n",
       "    <tr>\n",
       "      <th>9</th>\n",
       "      <td>ID10</td>\n",
       "      <td>Paula López</td>\n",
       "      <td>2</td>\n",
       "      <td>7</td>\n",
       "      <td>3,5</td>\n",
       "      <td>5,6</td>\n",
       "    </tr>\n",
       "    <tr>\n",
       "      <th>10</th>\n",
       "      <td>ID11</td>\n",
       "      <td>Juan Sanz</td>\n",
       "      <td>1</td>\n",
       "      <td>8,3</td>\n",
       "      <td>3</td>\n",
       "      <td>6,18</td>\n",
       "    </tr>\n",
       "    <tr>\n",
       "      <th>11</th>\n",
       "      <td>ID12</td>\n",
       "      <td>Leo Plaza</td>\n",
       "      <td>2</td>\n",
       "      <td>6,5</td>\n",
       "      <td>4</td>\n",
       "      <td>5,5</td>\n",
       "    </tr>\n",
       "    <tr>\n",
       "      <th>12</th>\n",
       "      <td>ID13</td>\n",
       "      <td>David  Solana</td>\n",
       "      <td>1</td>\n",
       "      <td>3</td>\n",
       "      <td>5</td>\n",
       "      <td>3,8</td>\n",
       "    </tr>\n",
       "    <tr>\n",
       "      <th>13</th>\n",
       "      <td>ID14</td>\n",
       "      <td>Beatriz Tiemblo</td>\n",
       "      <td>2</td>\n",
       "      <td>4</td>\n",
       "      <td>6,6</td>\n",
       "      <td>5,04</td>\n",
       "    </tr>\n",
       "    <tr>\n",
       "      <th>14</th>\n",
       "      <td>ID15</td>\n",
       "      <td>Lope Solán</td>\n",
       "      <td>1</td>\n",
       "      <td>6,5</td>\n",
       "      <td>7,7</td>\n",
       "      <td>6,98</td>\n",
       "    </tr>\n",
       "  </tbody>\n",
       "</table>\n",
       "</div>"
      ],
      "text/plain": [
       "   Id_Estudiante Nombre_Estudiante  Curso Nota_Ex1 Nota_Ex2 Nota_Total\n",
       "0            ID1   Pedro Rodríguez      1      4,6      3,5       4,16\n",
       "1            ID2      Luis Sánchez      1      7,3        8       7,58\n",
       "2            ID3      María Santos      2      8,6        9       8,76\n",
       "3            ID4    Dolores Martos      2       10      8,5        9,4\n",
       "4            ID5        Ana Olmedo      1        5      6,3       5,52\n",
       "5            ID6       Maria Salas      1        5      8,5        6,4\n",
       "6            ID7     Carmen Castro      1      4,6      6,3       5,28\n",
       "7            ID8         Luis Díez      1        5        8        6,2\n",
       "8            ID9   Rosa Cienfuegos      2        5        9        6,6\n",
       "9           ID10       Paula López      2        7      3,5        5,6\n",
       "10          ID11         Juan Sanz      1      8,3        3       6,18\n",
       "11          ID12         Leo Plaza      2      6,5        4        5,5\n",
       "12          ID13     David  Solana      1        3        5        3,8\n",
       "13          ID14   Beatriz Tiemblo      2        4      6,6       5,04\n",
       "14          ID15        Lope Solán      1      6,5      7,7       6,98"
      ]
     },
     "execution_count": 1,
     "metadata": {},
     "output_type": "execute_result"
    }
   ],
   "source": [
    "import pandas as pd\n",
    "tabla_estudiantes=pd.read_csv('Estudiantes.csv',';')\n",
    "tabla_estudiantes"
   ]
  },
  {
   "cell_type": "markdown",
   "id": "equipped-satellite",
   "metadata": {},
   "source": [
    "Se obtiene un DataFrame: una tabla con índice entero en las filas y  en las columnas cadenas de caracteres que tomamn como valores los nombres de las columnas del archivo importado."
   ]
  },
  {
   "cell_type": "markdown",
   "id": "scenic-moderator",
   "metadata": {},
   "source": [
    "<font color=\"blue\">Conversión de los datos a formato json</font>"
   ]
  },
  {
   "cell_type": "code",
   "execution_count": null,
   "id": "therapeutic-seminar",
   "metadata": {},
   "outputs": [],
   "source": [
    "tabla_estudiantes.to_json()"
   ]
  },
  {
   "cell_type": "markdown",
   "id": "cffa4b3d",
   "metadata": {},
   "source": [
    "Se puede guardar en un archivo."
   ]
  },
  {
   "cell_type": "code",
   "execution_count": null,
   "id": "e630e05f",
   "metadata": {},
   "outputs": [],
   "source": [
    "tabla_estudiantes.to_json(\"Estudiantes.json\")"
   ]
  },
  {
   "cell_type": "markdown",
   "id": "5d962378",
   "metadata": {},
   "source": [
    "Si se lee el archivo se obtiene nuevamente la tabla."
   ]
  },
  {
   "cell_type": "code",
   "execution_count": null,
   "id": "898a8906",
   "metadata": {},
   "outputs": [],
   "source": [
    "tabla_estudiantes_de_json=pd.read_json(\"Estudiantes.json\")\n",
    "tabla_estudiantes_de_json"
   ]
  },
  {
   "cell_type": "markdown",
   "id": "7960e2a4",
   "metadata": {},
   "source": [
    "<font color=\"blue\">Análisis de los tipos de datos</font>"
   ]
  },
  {
   "cell_type": "markdown",
   "id": "soviet-alabama",
   "metadata": {},
   "source": [
    "Se obtiene el tipo de los datos. Vamos a trabajar con el DataFrame inicial **tabla_estudiantes**."
   ]
  },
  {
   "cell_type": "code",
   "execution_count": null,
   "id": "duplicate-witness",
   "metadata": {},
   "outputs": [],
   "source": [
    "tabla_estudiantes.dtypes"
   ]
  },
  {
   "cell_type": "code",
   "execution_count": null,
   "id": "1acbbc4b",
   "metadata": {},
   "outputs": [],
   "source": [
    "tabla_estudiantes.loc[0,['Nota_Ex1','Nota_Ex2','Nota_Total']]"
   ]
  },
  {
   "cell_type": "markdown",
   "id": "promising-lease",
   "metadata": {},
   "source": [
    "Transformacion y preparación de datos para  obtención de datos estadísticos\n",
    "-----------"
   ]
  },
  {
   "cell_type": "markdown",
   "id": "institutional-studio",
   "metadata": {},
   "source": [
    "¿El curso debería ser numérico?. Si se obtienen los datos estadísticos se obtiene lo siguiente:"
   ]
  },
  {
   "cell_type": "code",
   "execution_count": null,
   "id": "recorded-devil",
   "metadata": {},
   "outputs": [],
   "source": [
    "tabla_estudiantes.describe()"
   ]
  },
  {
   "cell_type": "markdown",
   "id": "tender-qualification",
   "metadata": {},
   "source": [
    "- <p><font color=\"red\">¿Tiene sentido que se calculen estos datos para la columna Curso?</font>. </p>\n",
    "- <p><font color=\"red\">¿No se calculan los estadísticos para las notas?</font></p><br>\n",
    "\n",
    "<font color=\"blue\">Cambio de  tipo de los datos para prepararlo para  la obtención  de datos  estadísticos.</font>"
   ]
  },
  {
   "cell_type": "markdown",
   "id": "45a33d26",
   "metadata": {},
   "source": [
    "Se cambia Curso a no numérico."
   ]
  },
  {
   "cell_type": "code",
   "execution_count": null,
   "id": "professional-garden",
   "metadata": {},
   "outputs": [],
   "source": [
    "tabla_estudiantes['Curso']=tabla_estudiantes['Curso'].astype(str)"
   ]
  },
  {
   "cell_type": "code",
   "execution_count": null,
   "id": "2425299f",
   "metadata": {},
   "outputs": [],
   "source": [
    "tabla_estudiantes.dtypes"
   ]
  },
  {
   "cell_type": "markdown",
   "id": "abfd2c7c",
   "metadata": {},
   "source": [
    "Se vuelven a calcular los datos estadísticos."
   ]
  },
  {
   "cell_type": "code",
   "execution_count": null,
   "id": "precise-korean",
   "metadata": {},
   "outputs": [],
   "source": [
    "tabla_estudiantes.describe()"
   ]
  },
  {
   "cell_type": "markdown",
   "id": "exposed-monthly",
   "metadata": {},
   "source": [
    "count- número de datos de cada columna<br>\n",
    "unique - número de valores distintos en la columna<br>\n",
    "top - valor que más se repite en la columna (en las columnas Id_Estudiante, Nombre_Estudiante y Nota_Total)<br>\n",
    "freq - frecuencia del valor que más se repite (en las columnas Id_Estudiante, Nombre_Estudiante y Nota_Total)"
   ]
  },
  {
   "cell_type": "markdown",
   "id": "74b6509c",
   "metadata": {},
   "source": [
    "<font  color=\"blue\">Cambio del tipo de columnas string a tipo numérico</font>"
   ]
  },
  {
   "cell_type": "code",
   "execution_count": null,
   "id": "2a71dc22",
   "metadata": {},
   "outputs": [],
   "source": [
    "tabla_estudiantes[['Nota_Ex1', 'Nota_Ex2',\n",
    "       'Nota_Total']]=tabla_estudiantes[['Nota_Ex1', 'Nota_Ex2',\n",
    "       'Nota_Total']].replace(to_replace=',', value='.', regex=True)\n",
    "tabla_estudiantes"
   ]
  },
  {
   "cell_type": "code",
   "execution_count": null,
   "id": "9dd1c6fd",
   "metadata": {},
   "outputs": [],
   "source": [
    "tabla_estudiantes[['Nota_Ex1', 'Nota_Ex2',\n",
    "       'Nota_Total']]=tabla_estudiantes[['Nota_Ex1', 'Nota_Ex2',\n",
    "       'Nota_Total']].apply(pd.to_numeric)\n",
    "\n",
    "tabla_estudiantes.dtypes"
   ]
  },
  {
   "cell_type": "markdown",
   "id": "57b3012a",
   "metadata": {},
   "source": [
    "Se vuelven a calcular los datos estadísticos."
   ]
  },
  {
   "cell_type": "code",
   "execution_count": null,
   "id": "failing-passport",
   "metadata": {},
   "outputs": [],
   "source": [
    "tabla_estudiantes.describe()"
   ]
  },
  {
   "cell_type": "markdown",
   "id": "published-penny",
   "metadata": {},
   "source": [
    "<font color=\"blue\">Agrupación de datos</font>"
   ]
  },
  {
   "cell_type": "markdown",
   "id": "streaming-metallic",
   "metadata": {},
   "source": [
    "Se van a agrupar los datos por curso y se calculan las estadísticas agrupadas."
   ]
  },
  {
   "cell_type": "code",
   "execution_count": null,
   "id": "timely-circular",
   "metadata": {},
   "outputs": [],
   "source": [
    "datos_agrupados=tabla_estudiantes.groupby('Curso')\n",
    "datos_agrupados.describe()"
   ]
  },
  {
   "cell_type": "markdown",
   "id": "electronic-steering",
   "metadata": {},
   "source": [
    "Se pueden extraer por separado."
   ]
  },
  {
   "cell_type": "code",
   "execution_count": null,
   "id": "protected-combination",
   "metadata": {},
   "outputs": [],
   "source": [
    "datos_agrupados['Nota_Ex1'].describe()"
   ]
  },
  {
   "cell_type": "code",
   "execution_count": null,
   "id": "306bfc38",
   "metadata": {},
   "outputs": [],
   "source": [
    "datos_agrupados['Nota_Ex2'].describe()"
   ]
  },
  {
   "cell_type": "code",
   "execution_count": null,
   "id": "cfdc446c",
   "metadata": {},
   "outputs": [],
   "source": [
    "datos_agrupados['Nota_Total'].describe()"
   ]
  },
  {
   "cell_type": "markdown",
   "id": "outside-london",
   "metadata": {},
   "source": [
    "Se pueden calcular valores por separado."
   ]
  },
  {
   "cell_type": "code",
   "execution_count": null,
   "id": "finite-material",
   "metadata": {},
   "outputs": [],
   "source": [
    "datos_agrupados.mean()"
   ]
  },
  {
   "cell_type": "markdown",
   "id": "wrong-cabin",
   "metadata": {},
   "source": [
    "# Visualización de datos"
   ]
  },
  {
   "cell_type": "markdown",
   "id": "honey-general",
   "metadata": {},
   "source": [
    "Se va a visualizar un histograma de número de alumnos en cada curso."
   ]
  },
  {
   "cell_type": "code",
   "execution_count": null,
   "id": "functioning-beijing",
   "metadata": {},
   "outputs": [],
   "source": [
    "import matplotlib.pyplot as plt\n",
    "n, bins, patches = plt.hist(tabla_estudiantes['Curso'], bins=3)\n",
    "\n",
    "plt.xlabel('Curso')\n",
    "plt.ylabel('Numero de alumnos curso')\n",
    "plt.title('Histograma - Frecuencia absoluta. Alumnos en  curso')\n"
   ]
  },
  {
   "cell_type": "markdown",
   "id": "ad9d26a3",
   "metadata": {},
   "source": [
    "Se va a visualizar un histograma de los datos de Nota_Total."
   ]
  },
  {
   "cell_type": "code",
   "execution_count": null,
   "id": "84000e2c",
   "metadata": {},
   "outputs": [],
   "source": [
    "plt.figure(figsize=(10, 8))\n",
    "n, bins, patches = plt.hist(tabla_estudiantes['Nota_Total'], bins=10)\n",
    "intervalos=[]\n",
    "\n",
    "plt.xlabel('Notas')\n",
    "plt.ylabel('Frecuencia Nota')\n",
    "plt.title('Histograma -  Notas Totales')"
   ]
  },
  {
   "cell_type": "markdown",
   "id": "a9f034f1",
   "metadata": {},
   "source": [
    "Histograma Nota_Total con un valor mayor en bins."
   ]
  },
  {
   "cell_type": "code",
   "execution_count": null,
   "id": "df021ab6",
   "metadata": {},
   "outputs": [],
   "source": [
    "n, bins, patches = plt.hist(tabla_estudiantes['Nota_Total'], bins=20)\n",
    "plt.xlabel('Notas')\n",
    "plt.ylabel('Frecuencia de notas')\n",
    "plt.title('Histograma - Notas totales')"
   ]
  },
  {
   "cell_type": "markdown",
   "id": "f7c81058",
   "metadata": {},
   "source": [
    "Histograma Nota_Total con escala de intervalos en X."
   ]
  },
  {
   "cell_type": "code",
   "execution_count": null,
   "id": "75056839",
   "metadata": {},
   "outputs": [],
   "source": [
    "plt.figure(figsize=(10, 8))\n",
    "i=0\n",
    "intervalos=[]\n",
    "while (i<=10):\n",
    "    intervalos.append(i)\n",
    "    i+=0.5\n",
    "\n",
    "n, bins, patches = plt.hist(tabla_estudiantes['Nota_Total'], 20, \n",
    "                            facecolor='red', label='Nota total')\n",
    "\n",
    "plt.xticks(intervalos)\n",
    "\n",
    "\n",
    "plt.title('Histograma Notas Totales')\n",
    "plt.xlabel('Nota')\n",
    "plt.ylabel('Frecuencia de notas')\n",
    "plt.show()"
   ]
  },
  {
   "cell_type": "markdown",
   "id": "838b95c2",
   "metadata": {},
   "source": [
    "Uso  de seaborn, biblioteca de visualización  de datos estadísticos, basada en matplotlib. Se muestra nuevamente el histograma de Nota_Total."
   ]
  },
  {
   "cell_type": "code",
   "execution_count": null,
   "id": "b6a7f718",
   "metadata": {},
   "outputs": [],
   "source": [
    "import seaborn as sns\n",
    "\n",
    "plt.figure(figsize=(10, 8))\n",
    "sns.histplot(tabla_estudiantes['Nota_Total'], bins=20)\n",
    "plt.xlabel('Notas')\n",
    "plt.ylabel('Frecuencia de notas')\n",
    "plt.title('Histograma - Notas totales')\n"
   ]
  },
  {
   "cell_type": "markdown",
   "id": "a082114a",
   "metadata": {},
   "source": [
    "<font color=\"blue\">Visualización de datos agrupados por curso</font>\n",
    "\n",
    "\n"
   ]
  },
  {
   "cell_type": "markdown",
   "id": "a720b595",
   "metadata": {},
   "source": [
    "Se  visualizan los datos agrupados por cursos  con un diagrama de barras. Las barras representan, para cada curso, las notas obtenidas por cada estudiante."
   ]
  },
  {
   "cell_type": "code",
   "execution_count": null,
   "id": "specified-assumption",
   "metadata": {},
   "outputs": [],
   "source": [
    "%matplotlib inline\n",
    "datos_agrupados.plot(kind=\"bar\",title=\"Notas de los estudiantes en cada curso\",)"
   ]
  },
  {
   "cell_type": "markdown",
   "id": "d6be5446",
   "metadata": {},
   "source": [
    "Visualización de los datos agrupados apilados"
   ]
  },
  {
   "cell_type": "code",
   "execution_count": null,
   "id": "3bdc8bff",
   "metadata": {},
   "outputs": [],
   "source": [
    "%matplotlib inline\n",
    "\n",
    "\n",
    "plo=datos_agrupados.plot(kind=\"bar\",stacked=True,title=\"Notas de los estudiantes en cada curso\")\n"
   ]
  }
 ],
 "metadata": {
  "kernelspec": {
   "display_name": "Python 3",
   "language": "python",
   "name": "python3"
  },
  "language_info": {
   "codemirror_mode": {
    "name": "ipython",
    "version": 3
   },
   "file_extension": ".py",
   "mimetype": "text/x-python",
   "name": "python",
   "nbconvert_exporter": "python",
   "pygments_lexer": "ipython3",
   "version": "3.8.8"
  }
 },
 "nbformat": 4,
 "nbformat_minor": 5
}
