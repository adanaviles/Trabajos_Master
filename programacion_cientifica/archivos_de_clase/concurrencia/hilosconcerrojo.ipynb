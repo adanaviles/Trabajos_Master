{
 "cells": [
  {
   "cell_type": "markdown",
   "id": "85619441",
   "metadata": {},
   "source": [
    "## Cerrojos\n",
    "1. Acceso en exclusión mutua a un dato compartido\n",
    "2. Proteger operaciones de modificación de una variable compartida\n",
    "3. Un único cerrojo para todos los accesos"
   ]
  },
  {
   "cell_type": "code",
   "execution_count": 2,
   "id": "cefcfc6a",
   "metadata": {},
   "outputs": [
    {
     "name": "stdout",
     "output_type": "stream",
     "text": [
      "0\n"
     ]
    }
   ],
   "source": [
    "import threading\n",
    "import time\n",
    "\n",
    "cerrojo=threading.Lock()\n",
    "\n",
    "def incrementar ():\n",
    "    global contador\n",
    "    for i in range(1000000):\n",
    "        cerrojo.acquire()\n",
    "        contador+=1\n",
    "        cerrojo.release()\n",
    "        \n",
    "def decrementar ():\n",
    "    global contador\n",
    "    for i in range(1000000):\n",
    "        cerrojo.acquire()\n",
    "        contador-=1\n",
    "        cerrojo.release()\n",
    "        \n",
    "if __name__==\"__main__\":\n",
    "    contador=0\n",
    "    hilo1=threading.Thread(target=incrementar)\n",
    "    hilo2=threading.Thread(target=decrementar)\n",
    "    hilo1.start()\n",
    "    hilo2.start()\n",
    "    hilo1.join()\n",
    "    hilo2.join()\n",
    "    \n",
    "    print (contador)"
   ]
  },
  {
   "cell_type": "markdown",
   "id": "7409211b",
   "metadata": {},
   "source": [
    "## Semáforos\n",
    "1. Cuando acceso limitado a un recurso\n",
    "2. Se inicializa al valor del número de hilos de acceso simultaneo\n",
    "3. Un único semaforo para todos los accesos"
   ]
  },
  {
   "cell_type": "code",
   "execution_count": 3,
   "id": "60e1b57f",
   "metadata": {},
   "outputs": [
    {
     "name": "stdout",
     "output_type": "stream",
     "text": [
      "conexiones activas: ['Hilo 0']\n",
      "conexiones activas: ['Hilo 0', 'Hilo 1']\n",
      "conexiones activas:['Hilo 0']\n",
      "conexiones activas:[]\n",
      "conexiones activas: ['Hilo 2']\n",
      "conexiones activas: ['Hilo 2', 'Hilo 3']\n",
      "conexiones activas:['Hilo 2']\n",
      "conexiones activas:[]\n"
     ]
    }
   ],
   "source": [
    "import time\n",
    "import logging\n",
    "import logging.handlers\n",
    "import threading\n",
    "\n",
    "LOG_FILENAME = 'logging_ejemplo.out'\n",
    "\n",
    "my_logger = logging.getLogger('MyLogger')\n",
    "my_logger.setLevel(logging.DEBUG)\n",
    "handler = logging.handlers.RotatingFileHandler(\n",
    "    LOG_FILENAME,\n",
    "    maxBytes=20,\n",
    "    backupCount=5,\n",
    ")\n",
    "my_logger.addHandler(handler)\n",
    "\n",
    "class GestorConexiones(object):\n",
    "    def __init__(self):\n",
    "        \n",
    "        self.activas=[]\n",
    "        self.cerrojo=threading.Lock()\n",
    "        \n",
    "    def activar (self, name):\n",
    "        with self.cerrojo:\n",
    "            self.activas.append(name)\n",
    "            print(\"conexiones activas: \"+ str(self.activas))\n",
    "            \n",
    "    def desactivar (self, name):\n",
    "        with self.cerrojo:\n",
    "            self.activas.remove(name)\n",
    "            print(\"conexiones activas:\"+ str(self.activas))\n",
    "            \n",
    "def conexion(semaforo,gestor):\n",
    "    with semaforo:\n",
    "        nombre=threading.currentThread().getName()\n",
    "        gestor.activar(nombre)\n",
    "        time.sleep(0.1)\n",
    "        gestor.desactivar(nombre)\n",
    "        \n",
    "\n",
    "\n",
    "gestor=GestorConexiones()\n",
    "semaforo=threading.Semaphore(2)\n",
    "for i in range (4):\n",
    "    t=threading.Thread(target=conexion, name=\"Hilo \"+str(i), args=(semaforo,gestor))\n",
    "    t.start()\n",
    "        \n",
    "   \n",
    "        "
   ]
  },
  {
   "cell_type": "markdown",
   "id": "6b9bb0c2",
   "metadata": {},
   "source": [
    "## Productor Consumidor. Condiciones\n",
    "1. Exclusión mutua\n",
    "2. protege las modificaciones de datos compartidos\n",
    "3. los hilos esperan en una cola, no consumen tiempo de procesador"
   ]
  },
  {
   "cell_type": "code",
   "execution_count": 3,
   "id": "6442ddf4",
   "metadata": {},
   "outputs": [
    {
     "name": "stdout",
     "output_type": "stream",
     "text": [
      "pone disponible el recurso\n",
      "empieza a consumir12\n",
      "pone disponible el recurso\n",
      "empieza a consumir5\n"
     ]
    }
   ],
   "source": [
    "def consumir(cond):\n",
    "    global variable\n",
    "    \"\"\"Consumirá el recurso si se cumplen las condiciones de uso \"\"\"\n",
    "    with cond:\n",
    "        cond.wait()\n",
    "        print(\"empieza a consumir\"+ str(variable))\n",
    "        \n",
    "def producir(cond, valor):\n",
    "    global variable\n",
    "    \"\"\"Actualiza el recurso para que pueda ser consumido \"\"\"\n",
    "    with cond:\n",
    "        variable=valor\n",
    "        print(\"pone disponible el recurso\")\n",
    "        cond.notify()\n",
    "        \n",
    "        \n",
    "\n",
    "condicion=threading.Condition()\n",
    "consumidor1=threading.Thread(name=\"consumidor 1\", target=consumir, args=(condicion,))\n",
    "consumidor2=threading.Thread(name=\"consumidor 2\", target=consumir, args=(condicion,))\n",
    "productor1=threading.Thread(name=\"productor 1\", target=producir, args=(condicion,5))\n",
    "productor3=threading.Thread(name=\"productor 3\", target=producir, args=(condicion,12))\n",
    "\n",
    "\n",
    "# Aunque esté el producto disponible, el consumidor se inicia en wait, asi que hasa que el\n",
    "# proximo recurso no esté disponible, no hará nada. \n",
    "consumidor1.start()\n",
    "time.sleep(3)\n",
    "consumidor2.start()\n",
    "time.sleep(2)\n",
    "productor3.start()\n",
    "productor1.start()\n",
    "\n",
    "productor3.join()\n",
    "consumidor2.join()\n",
    "productor1.join()\n",
    "consumidor1.join()\n"
   ]
  },
  {
   "cell_type": "code",
   "execution_count": null,
   "id": "18a33a2e",
   "metadata": {},
   "outputs": [],
   "source": []
  },
  {
   "cell_type": "code",
   "execution_count": null,
   "id": "f6affa63",
   "metadata": {},
   "outputs": [],
   "source": []
  }
 ],
 "metadata": {
  "kernelspec": {
   "display_name": "Python 3 (ipykernel)",
   "language": "python",
   "name": "python3"
  },
  "language_info": {
   "codemirror_mode": {
    "name": "ipython",
    "version": 3
   },
   "file_extension": ".py",
   "mimetype": "text/x-python",
   "name": "python",
   "nbconvert_exporter": "python",
   "pygments_lexer": "ipython3",
   "version": "3.6.8"
  }
 },
 "nbformat": 4,
 "nbformat_minor": 5
}
