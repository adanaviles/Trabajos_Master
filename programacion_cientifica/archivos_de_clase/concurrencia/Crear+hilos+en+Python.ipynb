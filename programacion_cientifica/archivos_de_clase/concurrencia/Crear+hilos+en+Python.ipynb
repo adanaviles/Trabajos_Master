{
 "cells": [
  {
   "cell_type": "markdown",
   "id": "2c28e953",
   "metadata": {},
   "source": [
    "# Ejemplo 1.  Crear hilos en Python"
   ]
  },
  {
   "cell_type": "markdown",
   "id": "beneficial-release",
   "metadata": {},
   "source": [
    "Se importa la biblioteca threading para poder crear y ejecuutar hilos.  Adicionalmente se importa la bllioteca time para podder usar intervlos de tiempo para poder suspender la ejecución de los hilos por un timeppo deeterminado."
   ]
  },
  {
   "cell_type": "code",
   "execution_count": 1,
   "id": "analyzed-clone",
   "metadata": {},
   "outputs": [],
   "source": [
    "import threading as th\n",
    "import time"
   ]
  },
  {
   "cell_type": "code",
   "execution_count": null,
   "id": "7214ec5b",
   "metadata": {},
   "outputs": [],
   "source": [
    "Se cre una clase ejmplo de hilos para ver el funcionamiento de estos."
   ]
  },
  {
   "cell_type": "code",
   "execution_count": null,
   "id": "falling-royal",
   "metadata": {},
   "outputs": [],
   "source": [
    "class EjemploHilo (th.Thread):\n",
    "    def __ini__(self, is, retardo):\n",
    "        "
   ]
  },
  {
   "cell_type": "code",
   "execution_count": null,
   "id": "otherwise-member",
   "metadata": {},
   "outputs": [],
   "source": [
    "print (\"El array es: \")\n",
    "print (array)"
   ]
  },
  {
   "cell_type": "markdown",
   "id": "relative-layer",
   "metadata": {},
   "source": [
    "Mostrar las dimensiones del array"
   ]
  },
  {
   "cell_type": "code",
   "execution_count": null,
   "id": "universal-variation",
   "metadata": {},
   "outputs": [],
   "source": [
    "print(\"El  tipo de los elementos es:\")\n",
    "print(array.dtype)"
   ]
  },
  {
   "cell_type": "code",
   "execution_count": null,
   "id": "pharmaceutical-gather",
   "metadata": {},
   "outputs": [],
   "source": [
    "print(\"El número de  dimensiones del array es:\")\n",
    "print(array.ndim)"
   ]
  },
  {
   "cell_type": "code",
   "execution_count": null,
   "id": "upper-overview",
   "metadata": {},
   "outputs": [],
   "source": [
    "print(\"El tamaño de las dimensiones:\")\n",
    "print(array.shape)"
   ]
  },
  {
   "cell_type": "markdown",
   "id": "broad-tourist",
   "metadata": {},
   "source": [
    "Se realiza la inversión  del array. Se  construye uno nuevo tomado los elementos del array  en orden inverso mediante un operador de rango"
   ]
  },
  {
   "cell_type": "code",
   "execution_count": null,
   "id": "opposite-rescue",
   "metadata": {},
   "outputs": [],
   "source": [
    "array_inverso=array[::-1]"
   ]
  },
  {
   "cell_type": "code",
   "execution_count": null,
   "id": "several-translator",
   "metadata": {},
   "outputs": [],
   "source": [
    "print(\"El array inverso del anterior es:\")\n",
    "print(array_inverso)"
   ]
  },
  {
   "cell_type": "markdown",
   "id": "prescription-object",
   "metadata": {},
   "source": [
    "Se convierten a tipo float los valores del array  inverso"
   ]
  },
  {
   "cell_type": "code",
   "execution_count": null,
   "id": "convinced-institution",
   "metadata": {},
   "outputs": [],
   "source": [
    "array_inverso=np.asfarray(array_inverso)"
   ]
  },
  {
   "cell_type": "code",
   "execution_count": null,
   "id": "consistent-staff",
   "metadata": {},
   "outputs": [],
   "source": [
    "print(\"El array inverso ahora es:\")\n",
    "print(array_inverso)"
   ]
  }
 ],
 "metadata": {
  "kernelspec": {
   "display_name": "Python 3",
   "language": "python",
   "name": "python3"
  },
  "language_info": {
   "codemirror_mode": {
    "name": "ipython",
    "version": 3
   },
   "file_extension": ".py",
   "mimetype": "text/x-python",
   "name": "python",
   "nbconvert_exporter": "python",
   "pygments_lexer": "ipython3",
   "version": "3.8.8"
  }
 },
 "nbformat": 4,
 "nbformat_minor": 5
}
