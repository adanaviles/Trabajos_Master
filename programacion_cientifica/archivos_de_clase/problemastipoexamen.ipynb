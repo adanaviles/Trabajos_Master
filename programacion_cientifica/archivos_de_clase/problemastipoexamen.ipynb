{
 "cells": [
  {
   "cell_type": "markdown",
   "id": "538c377a",
   "metadata": {},
   "source": [
    "# Problemas tipo examen"
   ]
  },
  {
   "cell_type": "markdown",
   "id": "ac7c80a4",
   "metadata": {},
   "source": [
    "## Operaciones con listas y diccionarios"
   ]
  },
  {
   "cell_type": "markdown",
   "id": "9d53c46d",
   "metadata": {},
   "source": [
    "Implemente una función lambda que aplicada a la lista de números pares listapares=[2,4,6,8,10] devuelva la lista de los impares siguientes a cada uno de los pares."
   ]
  },
  {
   "cell_type": "code",
   "execution_count": 2,
   "id": "8ccc5449",
   "metadata": {},
   "outputs": [
    {
     "data": {
      "text/plain": [
       "[2, 4, 6, 8, 10]"
      ]
     },
     "execution_count": 2,
     "metadata": {},
     "output_type": "execute_result"
    }
   ],
   "source": [
    "siguiente=lambda x:x+1\n",
    "pares=[2,4,6,8,10]\n",
    "pares"
   ]
  },
  {
   "cell_type": "code",
   "execution_count": 3,
   "id": "e66e68f4",
   "metadata": {},
   "outputs": [
    {
     "data": {
      "text/plain": [
       "[3, 5, 7, 9, 11]"
      ]
     },
     "execution_count": 3,
     "metadata": {},
     "output_type": "execute_result"
    }
   ],
   "source": [
    "listaimparespares=list(map(siguiente,pares))\n",
    "listaimparespares"
   ]
  },
  {
   "cell_type": "code",
   "execution_count": 5,
   "id": "54da675e",
   "metadata": {},
   "outputs": [
    {
     "data": {
      "text/plain": [
       "[3, 5, 7, 9, 11]"
      ]
     },
     "execution_count": 5,
     "metadata": {},
     "output_type": "execute_result"
    }
   ],
   "source": [
    "[(lambda x:x+1)(x) for x in pares]"
   ]
  },
  {
   "cell_type": "markdown",
   "id": "9c6bc655",
   "metadata": {},
   "source": [
    "Implemente una función lambda que aplicada que aplicada a\n",
    "una lista de números lista=[1,2,3,4,5,6,7,8,9,10,11,12] devuelva\n",
    "la lista con los números pares que son múltiplos de seis."
   ]
  },
  {
   "cell_type": "code",
   "execution_count": 3,
   "id": "0fcfc01b",
   "metadata": {},
   "outputs": [
    {
     "data": {
      "text/plain": [
       "[6, 12]"
      ]
     },
     "execution_count": 3,
     "metadata": {},
     "output_type": "execute_result"
    }
   ],
   "source": [
    "sermultiplo6=lambda x:x%2==0 and x%3==0\n",
    "lista=[1,2,3,4,5,6,7,8,9,10,11,12]\n",
    "multiplos6=list(filter(sermultiplo6,lista))\n",
    "multiplos6"
   ]
  },
  {
   "cell_type": "markdown",
   "id": "8fbab560",
   "metadata": {},
   "source": [
    "a. Construya en Python un diccionario con los meses del año como claves y como valores el numero de orden del mes, Por  ejemplo, un elemento del diccionario debe ser noviembre:11.<br/>\n",
    "b.\tCree una lista meses con las claves del diccionario<br/>\n",
    "c.\tUse  una función que seleccione los valores del diccionario y cree una lista con los valores transformados, de forma que asigne valor  a cada valor “primavera”, “verano”, “otoño” e\n",
    "“invierno” a partir de los valores originales (aplique una función sobre la lista de valores). Almacene el resultado en listaEstaciones.<br/>\n",
    "El mes en el que hay cambio de estación se considera de la estación en curso porque cuenta con más días de ella, es decir, junio se considera primavera por que el día 21 cambia de estación en España(cada estudiante debe usar las estaciones de su región geográfica).<br/>\n",
    "d. Reconstruya el diccionario a partir de las dos listas nuevas para obtener  un diccionario como el que se muestra<br/>\n",
    "meses={\"enero\":\"invierno\", \"febrero\":\"invierno\",.....}\n"
   ]
  },
  {
   "cell_type": "code",
   "execution_count": 7,
   "id": "f3336f13",
   "metadata": {},
   "outputs": [
    {
     "data": {
      "text/plain": [
       "{'enero': 1,\n",
       " 'febrero': 2,\n",
       " 'marzo': 3,\n",
       " 'abril': 4,\n",
       " 'mayo': 5,\n",
       " 'junio': 6,\n",
       " 'julio': 7,\n",
       " 'agosto': 8,\n",
       " 'septiembre': 9,\n",
       " 'octubre': 10,\n",
       " 'noviembre': 11,\n",
       " 'diciembre': 12}"
      ]
     },
     "execution_count": 7,
     "metadata": {},
     "output_type": "execute_result"
    }
   ],
   "source": [
    "diccionario_meses={\"enero\":1,\"febrero\":2,\"marzo\":3,\"abril\":4, \"mayo\":5,\"junio\":6,\"julio\":7,\"agosto\":8,\"septiembre\":9,\"octubre\":10,\"noviembre\":11,\"diciembre\":12}\n",
    "diccionario_meses"
   ]
  },
  {
   "cell_type": "code",
   "execution_count": 8,
   "id": "2b8b220c",
   "metadata": {},
   "outputs": [
    {
     "data": {
      "text/plain": [
       "dict_keys(['enero', 'febrero', 'marzo', 'abril', 'mayo', 'junio', 'julio', 'agosto', 'septiembre', 'octubre', 'noviembre', 'diciembre'])"
      ]
     },
     "execution_count": 8,
     "metadata": {},
     "output_type": "execute_result"
    }
   ],
   "source": [
    "lista_meses=diccionario_meses.keys()\n",
    "lista_meses"
   ]
  },
  {
   "cell_type": "code",
   "execution_count": 11,
   "id": "347fca0e",
   "metadata": {},
   "outputs": [
    {
     "data": {
      "text/plain": [
       "['invierno',\n",
       " 'invierno',\n",
       " 'invierno',\n",
       " 'primavera',\n",
       " 'primavera',\n",
       " 'primavera',\n",
       " 'verano',\n",
       " 'verano',\n",
       " 'verano',\n",
       " 'otoño',\n",
       " 'otoño',\n",
       " 'otoño']"
      ]
     },
     "execution_count": 11,
     "metadata": {},
     "output_type": "execute_result"
    }
   ],
   "source": [
    "def asignar_estacion(listavalores):\n",
    "    lista=[]\n",
    "    for i in listavalores:\n",
    "        if (i<=3):\n",
    "            lista.append(\"invierno\")\n",
    "        elif(i<=6):\n",
    "            lista.append(\"primavera\")\n",
    "        elif (i<=9):\n",
    "            lista.append(\"verano\")\n",
    "        else:\n",
    "            lista.append(\"otoño\")\n",
    "    return lista\n",
    "\n",
    "listaEstaciones=asignar_estacion(diccionario_meses.values())\n",
    "listaEstaciones"
   ]
  },
  {
   "cell_type": "code",
   "execution_count": 23,
   "id": "08c507d8",
   "metadata": {},
   "outputs": [
    {
     "data": {
      "text/plain": [
       "['enero',\n",
       " 'febrero',\n",
       " 'marzo',\n",
       " 'abril',\n",
       " 'mayo',\n",
       " 'junio',\n",
       " 'julio',\n",
       " 'agosto',\n",
       " 'septiembre',\n",
       " 'octubre',\n",
       " 'noviembre',\n",
       " 'diciembre']"
      ]
     },
     "execution_count": 23,
     "metadata": {},
     "output_type": "execute_result"
    }
   ],
   "source": [
    "[x[0] for x in zip(lista_meses,listaEstaciones)]"
   ]
  },
  {
   "cell_type": "code",
   "execution_count": 7,
   "id": "89fadba5",
   "metadata": {},
   "outputs": [
    {
     "data": {
      "text/plain": [
       "{'enero': 'invierno',\n",
       " 'febrero': 'invierno',\n",
       " 'marzo': 'invierno',\n",
       " 'abril': 'primavera',\n",
       " 'mayo': 'primavera',\n",
       " 'junio': 'primavera',\n",
       " 'julio': 'verano',\n",
       " 'agosto': 'verano',\n",
       " 'septiembre': 'verano',\n",
       " 'octubre': 'otoño',\n",
       " 'noviembre': 'otoño',\n",
       " 'diciembre': 'otoño'}"
      ]
     },
     "execution_count": 7,
     "metadata": {},
     "output_type": "execute_result"
    }
   ],
   "source": [
    "meses={elem[0]:elem[1] for elem in zip(lista_meses,listaEstaciones)}\n",
    "meses"
   ]
  },
  {
   "cell_type": "markdown",
   "id": "fd72334f",
   "metadata": {},
   "source": [
    "Se tiene el diccionario dicesp_ingles={\"casa\":\"house\",\"madre\":mother\",\"esta\":\"is\",\"in\":\"en\",\"mi\":\"my\"}<br/>\n",
    "Implemente una función que reciba una frase y el diccionario anterior y la traduzca. Muestre como se usaría la función y el resultado que se obtendría.\n",
    "\n",
    "Separar las palabras de una frase en una lista\n"
   ]
  },
  {
   "cell_type": "code",
   "execution_count": 24,
   "id": "4d631826",
   "metadata": {},
   "outputs": [
    {
     "data": {
      "text/plain": [
       "['mi', 'madre', 'esta', 'en', 'casa']"
      ]
     },
     "execution_count": 24,
     "metadata": {},
     "output_type": "execute_result"
    }
   ],
   "source": [
    "dicesp_ingles={\"casa\":\"house\",\"madre\":\"mother\",\"esta\":\"is\",\"en\":\"in\",\"mi\":\"my\"}\n",
    "frase=\"mi madre esta en casa\"\n",
    "lista_palabras=frase.split()\n",
    "lista_palabras\n",
    "\n",
    "        \n",
    "               \n",
    "               \n",
    "    "
   ]
  },
  {
   "cell_type": "markdown",
   "id": "b1ff942c",
   "metadata": {},
   "source": [
    "Construir una frase a partir de las palabras de una lista"
   ]
  },
  {
   "cell_type": "code",
   "execution_count": 27,
   "id": "af685ab0",
   "metadata": {},
   "outputs": [
    {
     "data": {
      "text/plain": [
       "['my', 'mother', 'is', 'in', 'house']"
      ]
     },
     "execution_count": 27,
     "metadata": {},
     "output_type": "execute_result"
    }
   ],
   "source": [
    "def traducir(lista, diccionario):\n",
    "    listanueva=[]\n",
    "    for palabra in lista:\n",
    "        listanueva.append(diccionario[palabra])\n",
    "    \n",
    "    return listanueva\n",
    "lista_traducida=traducir(lista_palabras,dicesp_ingles)\n",
    "lista_traducida"
   ]
  },
  {
   "cell_type": "code",
   "execution_count": 12,
   "id": "1e570db0",
   "metadata": {},
   "outputs": [
    {
     "data": {
      "text/plain": [
       "'my mother is in house'"
      ]
     },
     "execution_count": 12,
     "metadata": {},
     "output_type": "execute_result"
    }
   ],
   "source": [
    "def construir_frase(lista):\n",
    "    frase=\"\"\n",
    "    for palabra in lista:\n",
    "        frase=frase+palabra+\" \"\n",
    "    frase=frase[:-1]\n",
    "    return frase\n",
    "frase_nueva=construir_frase(lista_traducida)\n",
    "frase_nueva"
   ]
  },
  {
   "cell_type": "markdown",
   "id": "fafab796",
   "metadata": {},
   "source": [
    "Obtener la primera letra de una palabra"
   ]
  },
  {
   "cell_type": "code",
   "execution_count": 13,
   "id": "a1380df9",
   "metadata": {},
   "outputs": [
    {
     "data": {
      "text/plain": [
       "'c'"
      ]
     },
     "execution_count": 13,
     "metadata": {},
     "output_type": "execute_result"
    }
   ],
   "source": [
    "palabra=\"casa\"\n",
    "primera=palabra[0]\n",
    "primera"
   ]
  },
  {
   "cell_type": "markdown",
   "id": "d6431203",
   "metadata": {},
   "source": [
    "Crear un diccionario con las letras que terminan las palabras de una frase y su frecuencia"
   ]
  },
  {
   "cell_type": "code",
   "execution_count": 14,
   "id": "32f322b9",
   "metadata": {},
   "outputs": [
    {
     "data": {
      "text/plain": [
       "{'i': 1, 'e': 1, 'a': 2, 'n': 1}"
      ]
     },
     "execution_count": 14,
     "metadata": {},
     "output_type": "execute_result"
    }
   ],
   "source": [
    "\n",
    "\n",
    "def letras_finales(frase):\n",
    "    lista_palabras=frase.split()\n",
    "    diccionario=dict()\n",
    "    for p in lista_palabras:\n",
    "        ultima=p[-1]\n",
    "        if ultima in diccionario:\n",
    "            diccionario[ultima]+=1\n",
    "        else:\n",
    "            diccionario[ultima]=1\n",
    "    return diccionario\n",
    "\n",
    "letrasfinales=letras_finales(\"mi madre esta en casa\")\n",
    "letrasfinales\n",
    "        "
   ]
  },
  {
   "cell_type": "code",
   "execution_count": null,
   "id": "44793739",
   "metadata": {},
   "outputs": [],
   "source": [
    "Ordenar un diccionario por valores"
   ]
  },
  {
   "cell_type": "code",
   "execution_count": 15,
   "id": "53aeffc7",
   "metadata": {},
   "outputs": [
    {
     "data": {
      "text/plain": [
       "[('a', 2), ('i', 1), ('e', 1), ('n', 1)]"
      ]
     },
     "execution_count": 15,
     "metadata": {},
     "output_type": "execute_result"
    }
   ],
   "source": [
    "import operator\n",
    "letrasfinales_ordenado = sorted(letrasfinales.items(), key=operator.itemgetter(1), reverse=True)\n",
    "letrasfinales_ordenado\n"
   ]
  },
  {
   "cell_type": "code",
   "execution_count": 16,
   "id": "7083129e",
   "metadata": {},
   "outputs": [
    {
     "data": {
      "text/plain": [
       "[('a', 2), ('e', 1), ('i', 1), ('n', 1)]"
      ]
     },
     "execution_count": 16,
     "metadata": {},
     "output_type": "execute_result"
    }
   ],
   "source": [
    "#por claves\n",
    "letrasfinales_ordenado2 = sorted(letrasfinales.items(), key=operator.itemgetter(0), reverse=False)\n",
    "letrasfinales_ordenado2"
   ]
  },
  {
   "cell_type": "markdown",
   "id": "f818995d",
   "metadata": {},
   "source": [
    "Construir un diccionario a partir de una lista de pares"
   ]
  },
  {
   "cell_type": "code",
   "execution_count": 17,
   "id": "24e5bfe4",
   "metadata": {},
   "outputs": [
    {
     "data": {
      "text/plain": [
       "{'a': 2, 'i': 1, 'e': 1, 'n': 1}"
      ]
     },
     "execution_count": 17,
     "metadata": {},
     "output_type": "execute_result"
    }
   ],
   "source": [
    "diccionarionuevo={elem[0]:elem[1] for elem in letrasfinales_ordenado}\n",
    "diccionarionuevo"
   ]
  },
  {
   "cell_type": "markdown",
   "id": "a38b9856",
   "metadata": {},
   "source": [
    "Crear dos listas y construir un diccionario con ellas"
   ]
  },
  {
   "cell_type": "code",
   "execution_count": 20,
   "id": "7df0458e",
   "metadata": {},
   "outputs": [
    {
     "data": {
      "text/plain": [
       "{'a': 2, 'i': 1, 'e': 1, 'n': 1}"
      ]
     },
     "execution_count": 20,
     "metadata": {},
     "output_type": "execute_result"
    }
   ],
   "source": [
    "lista_letras=[par[0] for par in letrasfinales_ordenado]\n",
    "lista_frecuencias=[par[1] for par in letrasfinales_ordenado]\n",
    "diccionarionuevoconlistas={elem[0]:elem[1] for elem in zip(lista_letras,lista_frecuencias)}\n",
    "diccionarionuevoconlistas\n"
   ]
  },
  {
   "cell_type": "markdown",
   "id": "07ab831c",
   "metadata": {},
   "source": [
    "# Concurrencia"
   ]
  },
  {
   "cell_type": "markdown",
   "id": "9cc8a809",
   "metadata": {},
   "source": [
    "Se quiere implementar un simulador de tráfico de trenes en un túnel. Por el túnel pasan trenes en los dos sentidos, pero no a la vez porque tiene una única vía. El sistema cuenta con las siguientes características:<br/>\n",
    "1. Cuando se abre el paso sentido norte-sur, pueden estar un  máximo de tres en ese sentido y cuando sale el último comprueba si hay esperando trenes en el otro sentido y lo cambia, sino continua abierto el mismo.<br/>\n",
    "2. En el túnel cuando entra un tren sur-norte solo puede pasar estar uno en el túnel. En cuanto sale cambia el sentido por si hay trenes norte-sur.<br/>\n",
    "\n",
    "<br/><br/><br/>\n",
    "a.\t¿Los trenes son hilos o son recursos compartidos?.  El túnel, ¿es un recurso o es un hilo? Justifique las respuestas.<br/>\n",
    "b.\tLa función de entrada norte-sur ¿debe asegurar la exclusión mutua?Si es así ¿para que hilos? ¿Qué cerrojo se  usaría en este caso?Esboce la solución. Justifique la respuesta<br/>\n",
    "c.\tLa función de entrada sur-norte ¿debe asegurar la exclusión mutua?Si es así ¿para que hilos? ¿Qué cerrojo se  usaría en este caso?Esboce la solución. Justifique la respuesta<br/>\n",
    "Indique si se puede producir algún problema de vitalidad"
   ]
  },
  {
   "attachments": {},
   "cell_type": "markdown",
   "id": "3fc62a57",
   "metadata": {},
   "source": [
    "a.  Los trenes son hilos porque son los que adquieren el recurso que es el tunel. El tunel es un recurso porque es compartido por los trenes y no todos pueden pasa a la vez<br/>\n",
    "b. El tunel puede ser implementado como un monitor porque cumple:<br/>\n",
    "Encapsula recurso compartido de acceso sincronizado y en exclusión mutua <br/>\n",
    "Los hilos se bloquean en cola si no se cumple la condición para adquirirlo,liberan cerrojo<br/>\n",
    "Notificación de que pueden continuar,adquieren el cerrojo\n",
    "La función de entrada norte-sur tiene que asegurar que no hay más de tres trenes en el tunel.<br/>Se debería usar un semaforo inicializado a tres"
   ]
  },
  {
   "cell_type": "code",
   "execution_count": 34,
   "id": "2ff6198a",
   "metadata": {},
   "outputs": [],
   "source": [
    "import threading\n",
    "class Tunel:\n",
    "    def __init__(self):\n",
    "        self.semaforoNS=threading.Semaphore(3)\n",
    "        self.semaforoSN=threading.Semaphore(1)\n",
    "        self.cuantos=0\n",
    "        self.exmutua=threading.Lock()\n",
    "        self.estadoNS=True\n",
    "        self.estadoSN=False\n",
    "        self.esperarNorte=threading.Condition()\n",
    "        self.esperarSur=threading.Condition()\n",
    "   \n",
    "        \n",
    "    def entrarNS(self):\n",
    "        #en primer lugar se necesita comporbar que su sentido esta abierto se puede hacer con un lock\n",
    "        #tambien una condicionsería buena porque es mas eficienºte la gestion de la espera\n",
    "        with self.esperarNorte:\n",
    "            if not self.estadoNS:\n",
    "                self.esperarNorte.Condition.wait()\n",
    "        #comprueba si hay sitio en el tunel\n",
    "        self.semaforoNS.acquire()\n",
    "        #tendria que modificar la variable cuantos en ex. mutua, otro lock\n",
    "        #entra el tunel se puede simular con sleep() \n",
    "        #al salirdel tunel libera el semaforo modifica la variable cuantos en ex. mutua pero si vale 1 cambia el sentido a sur -norte, la modifica y libera el semaforo\n",
    "        #despierta los del sur\n",
    "        self.semaforoNS.release()\n",
    "        with self.esperarSur:\n",
    "            self.esperarSur.notifyAll()\n",
    "        \n",
    "    def entrarSN(self):\n",
    "        #en primer lugar se necesita comporbar que su sentido esta abierto se puede hacer con un lock\n",
    "        #tambien una condicionsería buena porque es mas eficiente la gestion de la espera\n",
    "        with self.esperarSur:\n",
    "            if not self.estadoSN:\n",
    "                self.esperarSur.Condition.wait()\n",
    "        #comprueba si hay sitio en el tunel\n",
    "        self.semaforoSN.acquire()\n",
    "        #tendria que modificar la variable cuantos en ex. mutua, otro lock\n",
    "        #entra el tunel se puede simular con sleep() \n",
    "        #al salir del tunel libera el semaforo y despierta a los del norte\n",
    "        self.semaforoSN.release()\n",
    "        with self.esperarNorte:\n",
    "            self.esperarNorte.notifyAll()\n",
    "        \n",
    "        \n",
    "        \n",
    "    \n",
    "        \n",
    "        "
   ]
  },
  {
   "cell_type": "markdown",
   "id": "86522564",
   "metadata": {},
   "source": [
    "Está solución puede tener problemas de vitalidad por dos cuestiones:<br/>\n",
    "1. Se cambia el turno sin consultar si hay alquien esperando en el otro sentido lo que puede hacer que los otros se queden infinitamente esperando\n",
    "2. Al permitir varios trenes en un sentido puede ocurrir que nunca se llegue a cambiar el turno"
   ]
  },
  {
   "cell_type": "markdown",
   "id": "eba99028",
   "metadata": {},
   "source": [
    "Los hilos se deben crear"
   ]
  },
  {
   "cell_type": "code",
   "execution_count": 35,
   "id": "b3495d33",
   "metadata": {},
   "outputs": [],
   "source": [
    "class Tren(threading.Thread):\n",
    "    def __init__(self,tunel,turno):\n",
    "        threading.Thread.__init__(self)\n",
    "        #lo que seas\n",
    "        self.tunel=tunel\n",
    "        self.turno=turno\n",
    "        \n",
    "    def run (self):\n",
    "        #se simula acciones\n",
    "        if self.turno==\"NS\":\n",
    "            self.tunel.entrarNS();\n",
    "        else: \n",
    "            self.tunel.entraSN();\n",
    "            \n",
    "    #otras acciones\n",
    "    \n",
    "    \n",
    "if __name__==\"__main__\":\n",
    "        tunel=Tunel()\n",
    "        hilo1=Tren(tunel, \"NS\")\n",
    "        hilo1.start()\n",
    "        hilo1. join()\n",
    "        \n",
    "        #mas hilos de distintos turnos\n",
    "        "
   ]
  },
  {
   "cell_type": "code",
   "execution_count": null,
   "id": "6bef6885",
   "metadata": {},
   "outputs": [],
   "source": []
  }
 ],
 "metadata": {
  "kernelspec": {
   "display_name": "Python 3 (ipykernel)",
   "language": "python",
   "name": "python3"
  },
  "language_info": {
   "codemirror_mode": {
    "name": "ipython",
    "version": 3
   },
   "file_extension": ".py",
   "mimetype": "text/x-python",
   "name": "python",
   "nbconvert_exporter": "python",
   "pygments_lexer": "ipython3",
   "version": "3.9.7"
  }
 },
 "nbformat": 4,
 "nbformat_minor": 5
}
