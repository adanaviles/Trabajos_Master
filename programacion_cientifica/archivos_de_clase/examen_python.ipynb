{
 "cells": [
  {
   "cell_type": "code",
   "execution_count": 8,
   "metadata": {},
   "outputs": [
    {
     "data": {
      "text/plain": [
       "['a', 'e', 'i', 'o', 'u']"
      ]
     },
     "execution_count": 8,
     "metadata": {},
     "output_type": "execute_result"
    }
   ],
   "source": [
    "# Podemos usar string y ascii_lowercase. Tambien lo haremos con\n",
    "# a)\n",
    "import string \n",
    "abecedario_ascii = list(string.ascii_lowercase)\n",
    "abecedario = ['a', 'b', 'c', 'd', 'e', 'f', 'g', 'h', 'i', 'j', 'k',\n",
    "            'l', 'm', 'n', 'o', 'p' , 'q', 'r', 's', 't', 'u', 'v', 'w', 'x', 'y', 'z']\n",
    "\n",
    "# b)\n",
    "###\n",
    "# c)\n",
    "consonantes = [ 'b', 'c', 'd', 'f', 'g', 'h', 'j', 'k',\n",
    "            'l', 'm', 'n', 'p' , 'q', 'r', 's', 't', 'v', 'w', 'x', 'y', 'z']\n",
    "vocales = list(filter(lambda x: x not in consonantes, abecedario))\n",
    "vocales = list(filter(lambda x: x =='a' or x=='e' or x=='i' or x=='o' or x=='u', abecedario))\n",
    "vocales"
   ]
  },
  {
   "cell_type": "code",
   "execution_count": 30,
   "metadata": {},
   "outputs": [
    {
     "name": "stdout",
     "output_type": "stream",
     "text": [
      "....---.-...-\n",
      "['....', '---', '.-..', '.-']\n"
     ]
    }
   ],
   "source": [
    "import string as str\n",
    "dicesp_morse  = {   'A':'.-', 'B':'-...', 'C':'-.-.',\n",
    "                    'D':'-..', 'E':'.','F':'..-.',\n",
    "                    'G':'--.', 'H':'....', 'I':'..',\n",
    "                    'J':'.---', 'K':'-.-', 'L':'.-..',\n",
    "                    'M':'--', 'N':'-.', 'O':'---',\n",
    "                    'P':'.--.', 'Q':'--.-','R':'.-.',\n",
    "                    'S':'...','T':'-','U':'..-',\n",
    "                    'V':'...-','W':'.--','X':'-..-',\n",
    "                    'Y':'-.--','Z':'--..','1':'.----',\n",
    "                    '2':'..---','3':'...--','4':'....-',\n",
    "                    '5':'.....', '6':'-....', '7':'--...',\n",
    "                    '8':'---..', '9':'----.','0':'-----',\n",
    "                    '.':'.-.-.-', ',':'--..--', ':':'---...',\n",
    "                    ';':'-.-.-.', '?':'..--..', '!':'-.-.--',\n",
    "                    '\"':'.-..-.', \"'\" :'.----.','+':'.-.-.',\n",
    "                    '-':'-....-', '/':'-..-.','=':'-...-', \n",
    "                    '_':'..--.-', '$':'...-..-', '@':'.--.-.',\n",
    "                    '&':'.-...', '(':'-.--.', ')':'-.--.-'}\n",
    "# Tal y como se ha hecho el codigo necesitamos la palabra en mayuscula\n",
    "def traducir_a_morse(palabra, diccionario_morse):\n",
    "    # Se podria llevar la palabra a mayusculas, pero no recuerdo el comando. Recuerdo que era similar a toUpper (al menos en pyspark)\n",
    "    # Recibe una palabra asi que la recorremos\n",
    "    lista_letras = []\n",
    "    lista_codigo = []\n",
    "    for i in range(len(palabraa)):\n",
    "        lista_letras.append(palabra[i])\n",
    "\n",
    "    for letra in lista_letras:\n",
    "        lista_codigo.append(diccionario_morse[letra])\n",
    "\n",
    "    palabra_morse = ''\n",
    "    for letra in lista_codigo:\n",
    "        palabra_morse+=letra\n",
    "    return palabra_morse, lista_codigo\n",
    "codigo, lista_codigo = traducir_a_morse('HOLA', dicesp_morse)\n",
    "print(codigo)\n",
    "print(lista_codigo)\n",
    "\n"
   ]
  },
  {
   "cell_type": "code",
   "execution_count": 66,
   "metadata": {},
   "outputs": [
    {
     "name": "stdout",
     "output_type": "stream",
     "text": [
      "{'.-': 'A', '-...': 'B', '-.-.': 'C', '-..': 'D', '.': 'E', '..-.': 'F', '--.': 'G', '....': 'H', '..': 'I', '.---': 'J', '-.-': 'K', '.-..': 'L', '--': 'M', '-.': 'N', '---': 'O', '.--.': 'P', '--.-': 'Q', '.-.': 'R', '...': 'S', '-': 'T', '..-': 'U', '...-': 'V', '.--': 'W', '-..-': 'X', '-.--': 'Y', '--..': 'Z', '.----': '1', '..---': '2', '...--': '3', '....-': '4', '.....': '5', '-....': '6', '--...': '7', '---..': '8', '----.': '9', '-----': '0', '.-.-.-': '.', '--..--': ',', '---...': ':', '-.-.-.': ';', '..--..': '?', '-.-.--': '!', '.-..-.': '\"', '.----.': \"'\", '.-.-.': '+', '-....-': '-', '-..-.': '/', '-...-': '=', '..--.-': '_', '...-..-': '$', '.--.-.': '@', '.-...': '&', '-.--.': '(', '-.--.-': ')'}\n"
     ]
    }
   ],
   "source": [
    "def inversor_dict(dict):\n",
    "    # Saco los valores y las claves\n",
    "    lista_valor = [par[0] for par in dict.items()]\n",
    "    lista_clave = [par[1] for par in dict.items()]\n",
    "    # Creo el nuevo diccionario recorriendo las listas anteriores, pero en vez de clave-valor; valor-clave\n",
    "    diccionario_nuevo ={elem[0]:elem[1] for elem in zip(lista_clave,lista_valor)}\n",
    "    return diccionario_nuevo\n",
    "\n",
    "print(inversor_dict(dicesp_morse))"
   ]
  },
  {
   "cell_type": "code",
   "execution_count": null,
   "metadata": {},
   "outputs": [],
   "source": [
    "# Creo una lista con valores y otra con claves \n",
    "letras_valores_morse=[par[0] for par in dicesp_morse.items()]\n",
    "codigos_valores_morse = [par[1] for par in dicesp_morse.items()]\n",
    "\n",
    "diccionario_nuevo ={elem[0]:elem[1] for elem in zip(codigos_valores_morse,letras_valores_morse)}\n",
    "print(diccionario_nuevo)"
   ]
  },
  {
   "cell_type": "code",
   "execution_count": 68,
   "metadata": {},
   "outputs": [
    {
     "data": {
      "text/html": [
       "<div>\n",
       "<style scoped>\n",
       "    .dataframe tbody tr th:only-of-type {\n",
       "        vertical-align: middle;\n",
       "    }\n",
       "\n",
       "    .dataframe tbody tr th {\n",
       "        vertical-align: top;\n",
       "    }\n",
       "\n",
       "    .dataframe thead th {\n",
       "        text-align: right;\n",
       "    }\n",
       "</style>\n",
       "<table border=\"1\" class=\"dataframe\">\n",
       "  <thead>\n",
       "    <tr style=\"text-align: right;\">\n",
       "      <th></th>\n",
       "      <th>Invierno</th>\n",
       "      <th>Verano</th>\n",
       "      <th>Primavera</th>\n",
       "      <th>Oton</th>\n",
       "    </tr>\n",
       "  </thead>\n",
       "  <tbody>\n",
       "    <tr>\n",
       "      <th>P1</th>\n",
       "      <td>2.0</td>\n",
       "      <td>30.0</td>\n",
       "      <td>15</td>\n",
       "      <td>8.0</td>\n",
       "    </tr>\n",
       "    <tr>\n",
       "      <th>P2</th>\n",
       "      <td>7.5</td>\n",
       "      <td>31.0</td>\n",
       "      <td>16</td>\n",
       "      <td>6.5</td>\n",
       "    </tr>\n",
       "    <tr>\n",
       "      <th>P3</th>\n",
       "      <td>0.3</td>\n",
       "      <td>32.5</td>\n",
       "      <td>17</td>\n",
       "      <td>12.0</td>\n",
       "    </tr>\n",
       "  </tbody>\n",
       "</table>\n",
       "</div>"
      ],
      "text/plain": [
       "    Invierno  Verano  Primavera  Oton\n",
       "P1       2.0    30.0         15   8.0\n",
       "P2       7.5    31.0         16   6.5\n",
       "P3       0.3    32.5         17  12.0"
      ]
     },
     "execution_count": 68,
     "metadata": {},
     "output_type": "execute_result"
    }
   ],
   "source": [
    "import pandas as pd\n",
    "datos = {'Invierno':[2.0, 7.5, 0.3],\n",
    "        'Verano':[30, 31, 32.5], \n",
    "        'Primavera':[15, 16, 17],\n",
    "        'Oton':[8, 6.5, 12 ]}\n",
    "\n",
    "df_estaciones = pd.DataFrame(datos,index=[\"P1\",\"P2\", \"P3\"])\n",
    "df_estaciones"
   ]
  },
  {
   "cell_type": "code",
   "execution_count": 82,
   "metadata": {},
   "outputs": [
    {
     "data": {
      "text/html": [
       "<div>\n",
       "<style scoped>\n",
       "    .dataframe tbody tr th:only-of-type {\n",
       "        vertical-align: middle;\n",
       "    }\n",
       "\n",
       "    .dataframe tbody tr th {\n",
       "        vertical-align: top;\n",
       "    }\n",
       "\n",
       "    .dataframe thead th {\n",
       "        text-align: right;\n",
       "    }\n",
       "</style>\n",
       "<table border=\"1\" class=\"dataframe\">\n",
       "  <thead>\n",
       "    <tr style=\"text-align: right;\">\n",
       "      <th></th>\n",
       "      <th>Invierno</th>\n",
       "      <th>Verano</th>\n",
       "      <th>Primavera</th>\n",
       "      <th>Oton</th>\n",
       "      <th>ole</th>\n",
       "      <th>maximo_en_planta</th>\n",
       "      <th>minim_en_planta</th>\n",
       "    </tr>\n",
       "  </thead>\n",
       "  <tbody>\n",
       "    <tr>\n",
       "      <th>P1</th>\n",
       "      <td>2.0</td>\n",
       "      <td>30.0</td>\n",
       "      <td>15.0</td>\n",
       "      <td>8.0</td>\n",
       "      <td>30.0</td>\n",
       "      <td>30.0</td>\n",
       "      <td>30.0</td>\n",
       "    </tr>\n",
       "    <tr>\n",
       "      <th>P2</th>\n",
       "      <td>7.5</td>\n",
       "      <td>31.0</td>\n",
       "      <td>16.0</td>\n",
       "      <td>6.5</td>\n",
       "      <td>31.0</td>\n",
       "      <td>31.0</td>\n",
       "      <td>31.0</td>\n",
       "    </tr>\n",
       "    <tr>\n",
       "      <th>P3</th>\n",
       "      <td>0.3</td>\n",
       "      <td>32.5</td>\n",
       "      <td>17.0</td>\n",
       "      <td>12.0</td>\n",
       "      <td>32.5</td>\n",
       "      <td>32.5</td>\n",
       "      <td>32.5</td>\n",
       "    </tr>\n",
       "    <tr>\n",
       "      <th>maximo_en_la_estacion</th>\n",
       "      <td>7.5</td>\n",
       "      <td>32.5</td>\n",
       "      <td>17.0</td>\n",
       "      <td>12.0</td>\n",
       "      <td>32.5</td>\n",
       "      <td>32.5</td>\n",
       "      <td>32.5</td>\n",
       "    </tr>\n",
       "    <tr>\n",
       "      <th>minimo_en_la_estacion</th>\n",
       "      <td>0.3</td>\n",
       "      <td>30.0</td>\n",
       "      <td>15.0</td>\n",
       "      <td>6.5</td>\n",
       "      <td>30.0</td>\n",
       "      <td>30.0</td>\n",
       "      <td>30.0</td>\n",
       "    </tr>\n",
       "  </tbody>\n",
       "</table>\n",
       "</div>"
      ],
      "text/plain": [
       "                       Invierno  Verano  Primavera  Oton   ole  \\\n",
       "P1                          2.0    30.0       15.0   8.0  30.0   \n",
       "P2                          7.5    31.0       16.0   6.5  31.0   \n",
       "P3                          0.3    32.5       17.0  12.0  32.5   \n",
       "maximo_en_la_estacion       7.5    32.5       17.0  12.0  32.5   \n",
       "minimo_en_la_estacion       0.3    30.0       15.0   6.5  30.0   \n",
       "\n",
       "                       maximo_en_planta  minim_en_planta  \n",
       "P1                                 30.0             30.0  \n",
       "P2                                 31.0             31.0  \n",
       "P3                                 32.5             32.5  \n",
       "maximo_en_la_estacion              32.5             32.5  \n",
       "minimo_en_la_estacion              30.0             30.0  "
      ]
     },
     "execution_count": 82,
     "metadata": {},
     "output_type": "execute_result"
    }
   ],
   "source": [
    "def maximo_y_minimo(df):\n",
    "    lista_maximos = []\n",
    "    lista_minimos = []\n",
    "    for col in df.columns:\n",
    "        lista_maximos.append(df[col].max())\n",
    "        lista_minimos.append(df[col].min())\n",
    "    df.loc['maximo_en_la_estacion'] = lista_maximos\n",
    "    df.loc['minimo_en_la_estacion'] = lista_minimos\n",
    "    return df\n",
    "\n",
    "def maximo_y_minimo_planta(df):\n",
    "    df['maximo_en_planta'] = df.max(axis=1)\n",
    "    df['minim_en_planta'] = df.max(axis=1)\n",
    "    return df \n",
    "    \n",
    "df_nuevo =  maximo_y_minimo_planta(maximo_y_minimo(df_estaciones))\n",
    "df_nuevo "
   ]
  },
  {
   "cell_type": "code",
   "execution_count": 81,
   "metadata": {},
   "outputs": [
    {
     "data": {
      "text/html": [
       "<div>\n",
       "<style scoped>\n",
       "    .dataframe tbody tr th:only-of-type {\n",
       "        vertical-align: middle;\n",
       "    }\n",
       "\n",
       "    .dataframe tbody tr th {\n",
       "        vertical-align: top;\n",
       "    }\n",
       "\n",
       "    .dataframe thead th {\n",
       "        text-align: right;\n",
       "    }\n",
       "</style>\n",
       "<table border=\"1\" class=\"dataframe\">\n",
       "  <thead>\n",
       "    <tr style=\"text-align: right;\">\n",
       "      <th></th>\n",
       "      <th>Invierno</th>\n",
       "      <th>Verano</th>\n",
       "      <th>Primavera</th>\n",
       "      <th>Oton</th>\n",
       "      <th>ole</th>\n",
       "    </tr>\n",
       "  </thead>\n",
       "  <tbody>\n",
       "    <tr>\n",
       "      <th>P1</th>\n",
       "      <td>2.0</td>\n",
       "      <td>30.0</td>\n",
       "      <td>15.0</td>\n",
       "      <td>8.0</td>\n",
       "      <td>30.0</td>\n",
       "    </tr>\n",
       "    <tr>\n",
       "      <th>P2</th>\n",
       "      <td>7.5</td>\n",
       "      <td>31.0</td>\n",
       "      <td>16.0</td>\n",
       "      <td>6.5</td>\n",
       "      <td>31.0</td>\n",
       "    </tr>\n",
       "    <tr>\n",
       "      <th>P3</th>\n",
       "      <td>0.3</td>\n",
       "      <td>32.5</td>\n",
       "      <td>17.0</td>\n",
       "      <td>12.0</td>\n",
       "      <td>32.5</td>\n",
       "    </tr>\n",
       "    <tr>\n",
       "      <th>maximo_en_la_estacion</th>\n",
       "      <td>7.5</td>\n",
       "      <td>32.5</td>\n",
       "      <td>17.0</td>\n",
       "      <td>12.0</td>\n",
       "      <td>32.5</td>\n",
       "    </tr>\n",
       "    <tr>\n",
       "      <th>minimo_en_la_estacion</th>\n",
       "      <td>0.3</td>\n",
       "      <td>30.0</td>\n",
       "      <td>15.0</td>\n",
       "      <td>6.5</td>\n",
       "      <td>30.0</td>\n",
       "    </tr>\n",
       "  </tbody>\n",
       "</table>\n",
       "</div>"
      ],
      "text/plain": [
       "                       Invierno  Verano  Primavera  Oton   ole\n",
       "P1                          2.0    30.0       15.0   8.0  30.0\n",
       "P2                          7.5    31.0       16.0   6.5  31.0\n",
       "P3                          0.3    32.5       17.0  12.0  32.5\n",
       "maximo_en_la_estacion       7.5    32.5       17.0  12.0  32.5\n",
       "minimo_en_la_estacion       0.3    30.0       15.0   6.5  30.0"
      ]
     },
     "execution_count": 81,
     "metadata": {},
     "output_type": "execute_result"
    }
   ],
   "source": [
    "def maximo_y_minimo_planta(df):\n",
    "    df['maximo_en_planta'] = df.max(axis=1)\n",
    "    df['minim_en_planta'] = df.max(axis=1)\n",
    "    return df\n",
    "# Aplicando las dos funciones"
   ]
  },
  {
   "cell_type": "code",
   "execution_count": 146,
   "metadata": {},
   "outputs": [],
   "source": [
    "import string \n",
    "import operator"
   ]
  },
  {
   "cell_type": "code",
   "execution_count": 148,
   "metadata": {},
   "outputs": [
    {
     "ename": "TypeError",
     "evalue": "'module' object is not callable",
     "output_type": "error",
     "traceback": [
      "\u001b[1;31m---------------------------------------------------------------------------\u001b[0m",
      "\u001b[1;31mTypeError\u001b[0m                                 Traceback (most recent call last)",
      "\u001b[1;32mc:\\Users\\adana\\Desktop\\Trabajos_Master\\programacion_cientifica\\archivos_de_clase\\examen_python.ipynb Cell 9'\u001b[0m in \u001b[0;36m<module>\u001b[1;34m\u001b[0m\n\u001b[0;32m     <a href='vscode-notebook-cell:/c%3A/Users/adana/Desktop/Trabajos_Master/programacion_cientifica/archivos_de_clase/examen_python.ipynb#ch0000010?line=46'>47</a>\u001b[0m temp_edificio\u001b[39m=\u001b[39mTemperaturaEdificio(\u001b[39m\"\u001b[39m\u001b[39mFranciscoRicci\u001b[39m\u001b[39m\"\u001b[39m,\u001b[39m'\u001b[39m\u001b[39mMadrid\u001b[39m\u001b[39m'\u001b[39m, estaciones, lista_temperaturas)\n\u001b[0;32m     <a href='vscode-notebook-cell:/c%3A/Users/adana/Desktop/Trabajos_Master/programacion_cientifica/archivos_de_clase/examen_python.ipynb#ch0000010?line=47'>48</a>\u001b[0m temp_edificio\u001b[39m.\u001b[39mdataframe\n\u001b[1;32m---> <a href='vscode-notebook-cell:/c%3A/Users/adana/Desktop/Trabajos_Master/programacion_cientifica/archivos_de_clase/examen_python.ipynb#ch0000010?line=48'>49</a>\u001b[0m \u001b[39mstr\u001b[39;49m(\u001b[39m'\u001b[39;49m\u001b[39me\u001b[39;49m\u001b[39m'\u001b[39;49m)\n",
      "\u001b[1;31mTypeError\u001b[0m: 'module' object is not callable"
     ]
    }
   ],
   "source": [
    "class TemperaturaEdificio:\n",
    "    def __init__(self,nombre,localizacion,lista_estaciones,lista_temperaturas):\n",
    "        self.nombre = nombre\n",
    "        self.localizacion = localizacion\n",
    "        self.dataframe = self.construirDataframe(lista_estaciones,lista_temperaturas)\n",
    "        \n",
    "    def construirDataframe(self, lista_estaciones,lista_temperaturas):\n",
    "        # lista_temperaturas ha de ser una lista de listas\n",
    "        df=pd.DataFrame(index=[\"P1\",\"P2\", \"P3\"])\n",
    "        for i in range(0,len(lista_estaciones)):\n",
    "            df[lista_estaciones[i]] = lista_temperaturas[i]       \n",
    "        return df\n",
    "    \n",
    "    def obtener_temperatur_estacion(self,estacion):\n",
    "        return self.dataframe[estacion]\n",
    "    \n",
    "    def obtener_temperatur_planta(self,planta):\n",
    "        return self.dataframe.loc[planta]\n",
    "    \n",
    "    def maximo_y_minimo_estaciones(self):\n",
    "            lista_maximos = []\n",
    "            lista_minimos = []\n",
    "            for col in self.dataframe.columns:\n",
    "                lista_maximos.append(self.dataframe[col].max())\n",
    "                lista_minimos.append(self.dataframe[col].min())\n",
    "            self.dataframe.loc['maximo_en_la_estacion'] = lista_maximos\n",
    "            self.dataframe.loc['minimo_en_la_estacion'] = lista_minimos\n",
    "            return self.dataframe\n",
    "\n",
    "    def maximo_y_minimo_planta(self):\n",
    "        self.dataframe['maximo_en_planta'] = self.dataframe.max(axis=1)\n",
    "        self.dataframe['minim_en_planta'] = self.dataframe.max(axis=1)\n",
    "        return self.dataframe\n",
    "\n",
    "    def __str__(self):\n",
    "        # Primero hago que el dataframe tenga los maximos y los minimos asi que los ejecuto de esta forma para que el dataframe se soberescriba\n",
    "        # Podriamos hacerlo con copias para no perder el original, pero tampoco se nos pide en un principio.\n",
    "        self.dataframe['maximo_en_planta'] = self.dataframe.max(axis=1)\n",
    "        self.dataframe['minim_en_planta'] = self.dataframe.max(axis=1)\n",
    "        return \"El edificio es :\"+self.nombre+\"\\n Y esta localizado en \"+ self.localizacion +\" \\nSus temperaturas por estacion son \\n\"+str(self.dataframe)\n",
    "\n",
    "estaciones = ['Invierno', 'Verano', 'Primavera', 'Oton']\n",
    "lista_temperaturas = [\n",
    "                        [2.0, 7.5, 0.3], #temp invierno\n",
    "                        [30, 31, 32.5], # temp verano\n",
    "                        [15, 16, 17], # temp primavera\n",
    "                        [8, 6.5, 12 ] # temp otn\n",
    "                    ]\n",
    "temp_edificio=TemperaturaEdificio(\"FranciscoRicci\",'Madrid', estaciones, lista_temperaturas)\n",
    "print(temp_edificio)\n"
   ]
  },
  {
   "cell_type": "code",
   "execution_count": 149,
   "metadata": {},
   "outputs": [
    {
     "ename": "TypeError",
     "evalue": "'module' object is not callable",
     "output_type": "error",
     "traceback": [
      "\u001b[1;31m---------------------------------------------------------------------------\u001b[0m",
      "\u001b[1;31mTypeError\u001b[0m                                 Traceback (most recent call last)",
      "\u001b[1;32mc:\\Users\\adana\\Desktop\\Trabajos_Master\\programacion_cientifica\\archivos_de_clase\\examen_python.ipynb Cell 10'\u001b[0m in \u001b[0;36m<module>\u001b[1;34m\u001b[0m\n\u001b[1;32m----> <a href='vscode-notebook-cell:/c%3A/Users/adana/Desktop/Trabajos_Master/programacion_cientifica/archivos_de_clase/examen_python.ipynb#ch0000011?line=0'>1</a>\u001b[0m string(\u001b[39m'\u001b[39;49m\u001b[39me\u001b[39;49m\u001b[39m'\u001b[39;49m)\n",
      "\u001b[1;31mTypeError\u001b[0m: 'module' object is not callable"
     ]
    }
   ],
   "source": [
    "string('e')"
   ]
  }
 ],
 "metadata": {
  "interpreter": {
   "hash": "fad349bc2091ea79e990c0168c75f5798d7695cee9a706e492a9dde48f013484"
  },
  "kernelspec": {
   "display_name": "Python 3.9.7 64-bit",
   "language": "python",
   "name": "python3"
  },
  "language_info": {
   "codemirror_mode": {
    "name": "ipython",
    "version": 3
   },
   "file_extension": ".py",
   "mimetype": "text/x-python",
   "name": "python",
   "nbconvert_exporter": "python",
   "pygments_lexer": "ipython3",
   "version": "3.9.7"
  },
  "orig_nbformat": 4
 },
 "nbformat": 4,
 "nbformat_minor": 2
}
